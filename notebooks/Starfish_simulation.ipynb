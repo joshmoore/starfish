{
 "cells": [
  {
   "cell_type": "code",
   "execution_count": 1,
   "metadata": {},
   "outputs": [],
   "source": [
    "%matplotlib inline\n",
    "import matplotlib.pyplot as plt\n",
    "import random"
   ]
  },
  {
   "cell_type": "code",
   "execution_count": 2,
   "metadata": {},
   "outputs": [],
   "source": [
    "def choose(n, k):\n",
    "    if n == k:\n",
    "        return [[1]*k]\n",
    "    subsets = [[0] + a for a in choose(n-1,k)]\n",
    "    if k > 0:\n",
    "        subsets += [[1] + a for a in choose(n-1,k-1)]\n",
    "    return subsets\n",
    "\n",
    "def graham_sloane_codes(n):\n",
    "    # n is length of codeword\n",
    "    # number of on bits is 4\n",
    "    def code_sum(codeword):\n",
    "        return sum([i*c for i, c in enumerate(codeword)]) % n\n",
    "    return [c for c in choose(n, 4) if code_sum(c) == 0]"
   ]
  },
  {
   "cell_type": "code",
   "execution_count": 3,
   "metadata": {},
   "outputs": [],
   "source": [
    "from numpy.random import permutation, rand, normal\n",
    "from numpy import ones, zeros, concatenate, array, float\n",
    "from numpy.random import poisson\n",
    "from pandas import DataFrame, concat\n",
    "from skimage.filters import gaussian\n",
    "\n",
    "p = {'N_high':4, #number of on bits (not used with current codebook)\n",
    "'N_barcode':8, #length of barcode\n",
    "'N_flour':200, #mean number of flourophores per transcripts - depends on amplification strategy (e.g HCR, bDNA)\n",
    "'N_photons_per_flour':50, #mean number of photons per flourophore - depends on exposure time, bleaching rate of dye\n",
    "'N_photon_background':1000, #mean number of background photons per pixel - depends on tissue clearing and autoflourescence\n",
    "'detection_efficiency':.25, #quantum efficiency of the camera detector units number of electrons per photon\n",
    "'N_background_electrons':1, #camera read noise per pixel in units electrons\n",
    "'N_spots':100, #number of RNA puncta\n",
    "'N_size':100,  #height and width of image in pixel units\n",
    "'psf':2,  #standard devitation of gaussian in pixel units\n",
    "'graylevel' : 37000.0/2**16, #dynamic range of camera sensor 37,000 assuming a 16-bit AD converter\n",
    "'bits': 16 #16-bit AD converter\n",
    "}\n",
    "\n",
    "codebook = graham_sloane_codes(p['N_barcode'])\n",
    "\n",
    "def generate_spot(p):\n",
    "    position = rand(2)\n",
    "    gene = random.choice(range(len(codebook)))\n",
    "    barcode = array(codebook[gene])\n",
    "    photons = [poisson(p['N_photons_per_flour'])*poisson(p['N_flour'])*b for b in barcode]\n",
    "    return DataFrame({'position': [position], 'barcode': [barcode], 'photons': [photons], 'gene':gene})\n",
    "\n",
    "# right now there is no jitter on x-y positions of the spots, we might want to make it a vector"
   ]
  },
  {
   "cell_type": "code",
   "execution_count": 6,
   "metadata": {},
   "outputs": [],
   "source": [
    "spots = concat([generate_spot(p) for i in range(p['N_spots'])])\n",
    "\n",
    "image = zeros((p['N_barcode'], p['N_size'], p['N_size'],))\n",
    "\n",
    "for s in spots.itertuples():\n",
    "    image[:, int(p['N_size']*s.position[0]), int(p['N_size']*s.position[1])] = s.photons\n",
    "\n",
    "image_with_background = image + poisson(p['N_photon_background'], size = image.shape)\n",
    "filtered = array([gaussian(im, p['psf']) for im in image_with_background])\n",
    "filtered_detected = filtered*p['detection_efficiency'] + normal(scale=p['N_background_electrons'], size=filtered.shape)\n",
    "signal = [(x/p['graylevel']).astype(int).clip(0, 2**p['bits']) for x in filtered_detected]"
   ]
  },
  {
   "cell_type": "code",
   "execution_count": 7,
   "metadata": {},
   "outputs": [
    {
     "data": {
      "text/plain": [
       "<matplotlib.image.AxesImage at 0x10f77aa90>"
      ]
     },
     "execution_count": 7,
     "metadata": {},
     "output_type": "execute_result"
    },
    {
     "data": {
      "image/png": "[encoded data removed]",
      "text/plain": [
       "<Figure size 432x288 with 1 Axes>"
      ]
     },
     "metadata": {},
     "output_type": "display_data"
    }
   ],
   "source": [
    "plt.imshow(signal[7])"
   ]
  },
  {
   "cell_type": "code",
   "execution_count": 9,
   "metadata": {},
   "outputs": [
    {
     "data": {
      "text/plain": [
       "array([[[251.51739375, 250.20251505, 250.44309475, ..., 246.94836765,\n",
       "         247.00794798, 243.63969389],\n",
       "        [249.74020755, 247.58361036, 248.47885889, ..., 247.80201242,\n",
       "         247.4254119 , 247.10673972],\n",
       "        [248.59049587, 247.76405281, 248.67664587, ..., 249.66518779,\n",
       "         248.44020329, 248.7973539 ],\n",
       "        ...,\n",
       "        [252.67590979, 251.17961856, 250.67586487, ..., 300.14836316,\n",
       "         283.76099329, 267.14793462],\n",
       "        [254.48303649, 251.33603833, 249.80203829, ..., 277.36504456,\n",
       "         269.94033974, 259.84589265],\n",
       "        [251.65800554, 251.1851028 , 248.3739755 , ..., 259.31761328,\n",
       "         256.51089809, 254.27800459]],\n",
       "\n",
       "       [[346.8519833 , 428.90590164, 509.07880881, ..., 248.64417283,\n",
       "         248.16042238, 245.67547145],\n",
       "        [315.82851721, 367.01445496, 422.69140696, ..., 249.58884712,\n",
       "         247.5423128 , 246.9123032 ],\n",
       "        [286.33384051, 314.94085505, 347.28629569, ..., 248.4679977 ,\n",
       "         249.50011853, 248.53116138],\n",
       "        ...,\n",
       "        [251.0793605 , 248.93537812, 251.52970553, ..., 247.66637511,\n",
       "         247.73968936, 248.81590161],\n",
       "        [247.03443943, 247.29957951, 247.5935929 , ..., 247.57680601,\n",
       "         249.18279992, 245.94276251],\n",
       "        [242.7968249 , 246.46233187, 248.33515004, ..., 247.55873482,\n",
       "         248.34609587, 246.50312898]],\n",
       "\n",
       "       [[345.19024595, 429.21701589, 512.24771872, ..., 255.39983786,\n",
       "         254.27142814, 254.75888218],\n",
       "        [313.85089653, 370.25218273, 427.37602198, ..., 251.68680353,\n",
       "         253.44340956, 254.66082213],\n",
       "        [285.83413481, 318.22470028, 348.63718292, ..., 251.55720525,\n",
       "         251.07511624, 252.89611352],\n",
       "        ...,\n",
       "        [249.89991392, 250.74701716, 250.94074258, ..., 252.53306698,\n",
       "         252.71222545, 252.14133807],\n",
       "        [249.40290785, 249.27138525, 251.44618531, ..., 253.15044198,\n",
       "         254.58137221, 253.642739  ],\n",
       "        [244.96307426, 247.97755307, 250.00977496, ..., 252.87893347,\n",
       "         252.72742926, 252.68086694]],\n",
       "\n",
       "       ...,\n",
       "\n",
       "       [[249.33730056, 249.03069059, 250.08208834, ..., 251.28203726,\n",
       "         250.05754322, 246.27659785],\n",
       "        [249.14263997, 249.48661076, 251.3292749 , ..., 250.8190875 ,\n",
       "         249.18195388, 246.39269009],\n",
       "        [248.15158387, 248.43840789, 249.13324135, ..., 251.66950511,\n",
       "         250.48653622, 245.82718412],\n",
       "        ...,\n",
       "        [248.34044524, 247.14987644, 247.70858232, ..., 299.11905431,\n",
       "         285.44697542, 272.04779479],\n",
       "        [244.2702743 , 246.64584788, 247.28465343, ..., 278.16732944,\n",
       "         271.87410705, 263.91589547],\n",
       "        [246.77478051, 245.62791736, 245.67292723, ..., 265.54780752,\n",
       "         259.96477176, 259.45639497]],\n",
       "\n",
       "       [[327.39800522, 391.53903349, 454.31680127, ..., 247.10949054,\n",
       "         246.9455566 , 243.87213219],\n",
       "        [300.19067086, 344.32576065, 385.29818217, ..., 247.24171585,\n",
       "         245.85514558, 245.56858159],\n",
       "        [278.2412947 , 303.31626938, 325.49390517, ..., 246.49060869,\n",
       "         245.65473646, 246.07110488],\n",
       "        ...,\n",
       "        [249.44583193, 248.24902061, 249.01578459, ..., 250.93892402,\n",
       "         250.94935202, 247.64345121],\n",
       "        [252.16093415, 250.01701948, 248.83792657, ..., 249.587727  ,\n",
       "         251.61957572, 248.06677167],\n",
       "        [251.69907353, 250.34686354, 248.54200875, ..., 252.90019974,\n",
       "         250.37171863, 251.94159888]],\n",
       "\n",
       "       [[356.3469838 , 447.61441225, 540.28253127, ..., 244.6816387 ,\n",
       "         245.36572803, 246.73444094],\n",
       "        [319.53816217, 381.69760877, 443.51549851, ..., 247.78583405,\n",
       "         247.42341712, 247.17914826],\n",
       "        [287.67478618, 321.25338311, 359.18011184, ..., 249.55469911,\n",
       "         251.17906843, 248.25124726],\n",
       "        ...,\n",
       "        [250.40600172, 250.07091943, 250.74106758, ..., 310.49739391,\n",
       "         290.11412156, 271.93684013],\n",
       "        [249.69907026, 250.31301791, 254.06365228, ..., 282.39523961,\n",
       "         272.00707355, 262.1949562 ],\n",
       "        [253.07472691, 253.65227929, 252.31464334, ..., 261.49868142,\n",
       "         260.08128897, 256.77546521]]])"
      ]
     },
     "execution_count": 9,
     "metadata": {},
     "output_type": "execute_result"
    }
   ],
   "source": [
    "filtered_detected"
   ]
  }
 ],
 "metadata": {
  "kernelspec": {
   "display_name": "Python 3",
   "language": "python",
   "name": "python3"
  },
  "language_info": {
   "codemirror_mode": {
    "name": "ipython",
    "version": 3
   },
   "file_extension": ".py",
   "mimetype": "text/x-python",
   "name": "python",
   "nbconvert_exporter": "python",
   "pygments_lexer": "ipython3",
   "version": "3.6.5"
  }
 },
 "nbformat": 4,
 "nbformat_minor": 2
}
