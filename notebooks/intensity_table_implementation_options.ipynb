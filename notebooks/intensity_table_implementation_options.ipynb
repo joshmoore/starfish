{
 "cells": [
  {
   "cell_type": "code",
   "execution_count": 45,
   "metadata": {},
   "outputs": [
    {
     "name": "stdout",
     "output_type": "stream",
     "text": [
      "The autoreload extension is already loaded. To reload it, use:\n",
      "  %reload_ext autoreload\n"
     ]
    }
   ],
   "source": [
    "%load_ext autoreload\n",
    "%autoreload 2"
   ]
  },
  {
   "cell_type": "code",
   "execution_count": 13,
   "metadata": {},
   "outputs": [],
   "source": [
    "import functools\n",
    "import xarray as xr\n",
    "import pandas as pd\n",
    "import numpy as np\n",
    "\n",
    "from starfish.pipeline.features.spots.detector.gaussian import GaussianSpotDetector\n",
    "from starfish.constants import Indices\n",
    "from starfish.util.synthesize import synthesize\n",
    "from starfish.pipeline.features.intensity_table import IntensityTable\n",
    "from starfish.pipeline.features.codebook import Codebook\n",
    "\n",
    "data, codebook, result = synthesize(num_ch=4)\n",
    "\n",
    "gsd = GaussianSpotDetector(blobs_image_name='dots', min_sigma=2, max_sigma=10, num_sigma=10, threshold=0.1)\n",
    "intensity_table = gsd.find(data)"
   ]
  },
  {
   "cell_type": "code",
   "execution_count": 11,
   "metadata": {},
   "outputs": [],
   "source": [
    "intensity_table = xr_codebook.per_channel_max_decode(intensity_table)"
   ]
  },
  {
   "cell_type": "code",
   "execution_count": 15,
   "metadata": {},
   "outputs": [
    {
     "data": {
      "text/html": [
       "<div>\n",
       "<style scoped>\n",
       "    .dataframe tbody tr th:only-of-type {\n",
       "        vertical-align: middle;\n",
       "    }\n",
       "\n",
       "    .dataframe tbody tr th {\n",
       "        vertical-align: top;\n",
       "    }\n",
       "\n",
       "    .dataframe thead th {\n",
       "        text-align: right;\n",
       "    }\n",
       "</style>\n",
       "<table border=\"1\" class=\"dataframe\">\n",
       "  <thead>\n",
       "    <tr style=\"text-align: right;\">\n",
       "      <th></th>\n",
       "      <th>barcode</th>\n",
       "      <th>gene</th>\n",
       "      <th>photons</th>\n",
       "      <th>position</th>\n",
       "    </tr>\n",
       "  </thead>\n",
       "  <tbody>\n",
       "    <tr>\n",
       "      <th>0</th>\n",
       "      <td>[1, 1, 0, 0, 0, 0, 1, 0, 0, 1, 0, 0, 0, 0, 0, 0]</td>\n",
       "      <td>110</td>\n",
       "      <td>[10047, 8213, 0, 0, 0, 0, 8228, 0, 0, 9240, 0,...</td>\n",
       "      <td>[0.43599490214200376, 0.025926231827891333]</td>\n",
       "    </tr>\n",
       "    <tr>\n",
       "      <th>0</th>\n",
       "      <td>[1, 0, 1, 1, 0, 0, 0, 0, 0, 0, 0, 1, 0, 0, 0, 0]</td>\n",
       "      <td>108</td>\n",
       "      <td>[11310, 0, 10600, 11609, 0, 0, 0, 0, 0, 0, 0, ...</td>\n",
       "      <td>[0.25974475274713704, 0.3868898853207624]</td>\n",
       "    </tr>\n",
       "    <tr>\n",
       "      <th>0</th>\n",
       "      <td>[0, 0, 0, 0, 0, 0, 0, 1, 0, 0, 0, 0, 1, 0, 1, 1]</td>\n",
       "      <td>7</td>\n",
       "      <td>[0, 0, 0, 0, 0, 0, 0, 10388, 0, 0, 0, 0, 14112...</td>\n",
       "      <td>[0.741755038883449, 0.6530205132311011]</td>\n",
       "    </tr>\n",
       "    <tr>\n",
       "      <th>0</th>\n",
       "      <td>[0, 0, 0, 0, 0, 1, 0, 0, 1, 1, 1, 0, 0, 0, 0, 0]</td>\n",
       "      <td>11</td>\n",
       "      <td>[0, 0, 0, 0, 0, 12480, 0, 0, 7920, 9435, 8858,...</td>\n",
       "      <td>[0.2085024945255225, 0.8673815371565234]</td>\n",
       "    </tr>\n",
       "    <tr>\n",
       "      <th>0</th>\n",
       "      <td>[0, 0, 0, 0, 0, 0, 1, 1, 1, 0, 0, 1, 0, 0, 0, 0]</td>\n",
       "      <td>10</td>\n",
       "      <td>[0, 0, 0, 0, 0, 0, 8140, 7654, 8428, 0, 0, 964...</td>\n",
       "      <td>[0.8931661865670434, 0.8248904812066794]</td>\n",
       "    </tr>\n",
       "    <tr>\n",
       "      <th>0</th>\n",
       "      <td>[0, 0, 1, 0, 0, 0, 0, 0, 1, 0, 1, 0, 1, 0, 0, 0]</td>\n",
       "      <td>46</td>\n",
       "      <td>[0, 0, 8112, 0, 0, 0, 0, 0, 8160, 0, 9165, 0, ...</td>\n",
       "      <td>[0.37538143725374984, 0.1947943284958592]</td>\n",
       "    </tr>\n",
       "    <tr>\n",
       "      <th>0</th>\n",
       "      <td>[1, 0, 1, 0, 0, 1, 0, 0, 0, 1, 0, 0, 0, 0, 0, 0]</td>\n",
       "      <td>106</td>\n",
       "      <td>[9843, 0, 9936, 0, 0, 7308, 0, 0, 0, 10608, 0,...</td>\n",
       "      <td>[0.5641078118839661, 0.20797501638302762]</td>\n",
       "    </tr>\n",
       "    <tr>\n",
       "      <th>0</th>\n",
       "      <td>[0, 0, 0, 0, 1, 0, 0, 1, 1, 0, 0, 0, 0, 1, 0, 0]</td>\n",
       "      <td>21</td>\n",
       "      <td>[0, 0, 0, 0, 7449, 0, 0, 8554, 8424, 0, 0, 0, ...</td>\n",
       "      <td>[0.42364893643829327, 0.14074135541701693]</td>\n",
       "    </tr>\n",
       "    <tr>\n",
       "      <th>0</th>\n",
       "      <td>[1, 0, 0, 0, 0, 0, 0, 1, 0, 0, 1, 0, 0, 0, 0, 1]</td>\n",
       "      <td>94</td>\n",
       "      <td>[9984, 0, 0, 0, 0, 0, 0, 8280, 0, 0, 8413, 0, ...</td>\n",
       "      <td>[0.682067861155801, 0.38362915454319146]</td>\n",
       "    </tr>\n",
       "    <tr>\n",
       "      <th>0</th>\n",
       "      <td>[1, 0, 0, 1, 0, 1, 0, 0, 1, 0, 0, 0, 0, 0, 0, 0]</td>\n",
       "      <td>103</td>\n",
       "      <td>[12688, 0, 0, 8404, 0, 10175, 0, 0, 9020, 0, 0...</td>\n",
       "      <td>[0.363158653579688, 0.25602141644724075]</td>\n",
       "    </tr>\n",
       "    <tr>\n",
       "      <th>0</th>\n",
       "      <td>[0, 1, 1, 0, 1, 0, 0, 0, 0, 1, 0, 0, 0, 0, 0, 0]</td>\n",
       "      <td>85</td>\n",
       "      <td>[0, 9800, 12416, 0, 9947, 0, 0, 0, 0, 9405, 0,...</td>\n",
       "      <td>[0.25325093974455415, 0.46855266607471036]</td>\n",
       "    </tr>\n",
       "    <tr>\n",
       "      <th>0</th>\n",
       "      <td>[1, 1, 0, 0, 0, 0, 0, 1, 1, 0, 0, 0, 0, 0, 0, 0]</td>\n",
       "      <td>109</td>\n",
       "      <td>[11180, 8103, 0, 0, 0, 0, 0, 9682, 8880, 0, 0,...</td>\n",
       "      <td>[0.7189916241768497, 0.6574379737614736]</td>\n",
       "    </tr>\n",
       "    <tr>\n",
       "      <th>0</th>\n",
       "      <td>[0, 0, 0, 1, 0, 1, 0, 0, 0, 0, 0, 1, 0, 1, 0, 0]</td>\n",
       "      <td>39</td>\n",
       "      <td>[0, 0, 0, 8464, 0, 9990, 0, 0, 0, 0, 0, 11070,...</td>\n",
       "      <td>[0.32526811230061636, 0.007933937336056185]</td>\n",
       "    </tr>\n",
       "    <tr>\n",
       "      <th>0</th>\n",
       "      <td>[0, 0, 0, 1, 0, 0, 0, 1, 0, 0, 1, 0, 1, 0, 0, 0]</td>\n",
       "      <td>32</td>\n",
       "      <td>[0, 0, 0, 8924, 0, 0, 0, 7770, 0, 0, 12480, 0,...</td>\n",
       "      <td>[0.4965508756860062, 0.09229556807637873]</td>\n",
       "    </tr>\n",
       "    <tr>\n",
       "      <th>0</th>\n",
       "      <td>[0, 1, 0, 0, 1, 0, 0, 0, 0, 0, 0, 0, 1, 0, 0, 1]</td>\n",
       "      <td>77</td>\n",
       "      <td>[0, 14256, 0, 0, 8600, 0, 0, 0, 0, 0, 0, 0, 99...</td>\n",
       "      <td>[0.49256720077586424, 0.8819086975363026]</td>\n",
       "    </tr>\n",
       "    <tr>\n",
       "      <th>0</th>\n",
       "      <td>[0, 0, 0, 0, 1, 1, 0, 0, 0, 0, 1, 0, 0, 1, 0, 0]</td>\n",
       "      <td>27</td>\n",
       "      <td>[0, 0, 0, 0, 9548, 11780, 0, 0, 0, 0, 8505, 0,...</td>\n",
       "      <td>[0.877628861896351, 0.04139800524035486]</td>\n",
       "    </tr>\n",
       "    <tr>\n",
       "      <th>0</th>\n",
       "      <td>[0, 1, 0, 0, 1, 0, 0, 0, 0, 0, 0, 0, 1, 0, 0, 1]</td>\n",
       "      <td>77</td>\n",
       "      <td>[0, 15111, 0, 0, 11760, 0, 0, 0, 0, 0, 0, 0, 7...</td>\n",
       "      <td>[0.9743510099518713, 0.6068531894491115]</td>\n",
       "    </tr>\n",
       "    <tr>\n",
       "      <th>0</th>\n",
       "      <td>[0, 0, 0, 0, 0, 0, 0, 0, 0, 1, 1, 0, 0, 0, 1, 1]</td>\n",
       "      <td>4</td>\n",
       "      <td>[0, 0, 0, 0, 0, 0, 0, 0, 0, 9718, 10206, 0, 0,...</td>\n",
       "      <td>[0.14526041554983027, 0.5911642232160732]</td>\n",
       "    </tr>\n",
       "    <tr>\n",
       "      <th>0</th>\n",
       "      <td>[0, 1, 0, 0, 0, 1, 0, 0, 0, 0, 0, 0, 1, 0, 1, 0]</td>\n",
       "      <td>74</td>\n",
       "      <td>[0, 9152, 0, 0, 0, 8918, 0, 0, 0, 0, 0, 0, 107...</td>\n",
       "      <td>[0.723303508772563, 0.01098044027560019]</td>\n",
       "    </tr>\n",
       "    <tr>\n",
       "      <th>0</th>\n",
       "      <td>[1, 0, 0, 0, 0, 0, 0, 0, 0, 1, 0, 1, 1, 0, 0, 0]</td>\n",
       "      <td>87</td>\n",
       "      <td>[11713, 0, 0, 0, 0, 0, 0, 0, 0, 10584, 0, 9552...</td>\n",
       "      <td>[0.8908615623178063, 0.8428253374360226]</td>\n",
       "    </tr>\n",
       "  </tbody>\n",
       "</table>\n",
       "</div>"
      ],
      "text/plain": [
       "                                            barcode  gene  \\\n",
       "0  [1, 1, 0, 0, 0, 0, 1, 0, 0, 1, 0, 0, 0, 0, 0, 0]   110   \n",
       "0  [1, 0, 1, 1, 0, 0, 0, 0, 0, 0, 0, 1, 0, 0, 0, 0]   108   \n",
       "0  [0, 0, 0, 0, 0, 0, 0, 1, 0, 0, 0, 0, 1, 0, 1, 1]     7   \n",
       "0  [0, 0, 0, 0, 0, 1, 0, 0, 1, 1, 1, 0, 0, 0, 0, 0]    11   \n",
       "0  [0, 0, 0, 0, 0, 0, 1, 1, 1, 0, 0, 1, 0, 0, 0, 0]    10   \n",
       "0  [0, 0, 1, 0, 0, 0, 0, 0, 1, 0, 1, 0, 1, 0, 0, 0]    46   \n",
       "0  [1, 0, 1, 0, 0, 1, 0, 0, 0, 1, 0, 0, 0, 0, 0, 0]   106   \n",
       "0  [0, 0, 0, 0, 1, 0, 0, 1, 1, 0, 0, 0, 0, 1, 0, 0]    21   \n",
       "0  [1, 0, 0, 0, 0, 0, 0, 1, 0, 0, 1, 0, 0, 0, 0, 1]    94   \n",
       "0  [1, 0, 0, 1, 0, 1, 0, 0, 1, 0, 0, 0, 0, 0, 0, 0]   103   \n",
       "0  [0, 1, 1, 0, 1, 0, 0, 0, 0, 1, 0, 0, 0, 0, 0, 0]    85   \n",
       "0  [1, 1, 0, 0, 0, 0, 0, 1, 1, 0, 0, 0, 0, 0, 0, 0]   109   \n",
       "0  [0, 0, 0, 1, 0, 1, 0, 0, 0, 0, 0, 1, 0, 1, 0, 0]    39   \n",
       "0  [0, 0, 0, 1, 0, 0, 0, 1, 0, 0, 1, 0, 1, 0, 0, 0]    32   \n",
       "0  [0, 1, 0, 0, 1, 0, 0, 0, 0, 0, 0, 0, 1, 0, 0, 1]    77   \n",
       "0  [0, 0, 0, 0, 1, 1, 0, 0, 0, 0, 1, 0, 0, 1, 0, 0]    27   \n",
       "0  [0, 1, 0, 0, 1, 0, 0, 0, 0, 0, 0, 0, 1, 0, 0, 1]    77   \n",
       "0  [0, 0, 0, 0, 0, 0, 0, 0, 0, 1, 1, 0, 0, 0, 1, 1]     4   \n",
       "0  [0, 1, 0, 0, 0, 1, 0, 0, 0, 0, 0, 0, 1, 0, 1, 0]    74   \n",
       "0  [1, 0, 0, 0, 0, 0, 0, 0, 0, 1, 0, 1, 1, 0, 0, 0]    87   \n",
       "\n",
       "                                             photons  \\\n",
       "0  [10047, 8213, 0, 0, 0, 0, 8228, 0, 0, 9240, 0,...   \n",
       "0  [11310, 0, 10600, 11609, 0, 0, 0, 0, 0, 0, 0, ...   \n",
       "0  [0, 0, 0, 0, 0, 0, 0, 10388, 0, 0, 0, 0, 14112...   \n",
       "0  [0, 0, 0, 0, 0, 12480, 0, 0, 7920, 9435, 8858,...   \n",
       "0  [0, 0, 0, 0, 0, 0, 8140, 7654, 8428, 0, 0, 964...   \n",
       "0  [0, 0, 8112, 0, 0, 0, 0, 0, 8160, 0, 9165, 0, ...   \n",
       "0  [9843, 0, 9936, 0, 0, 7308, 0, 0, 0, 10608, 0,...   \n",
       "0  [0, 0, 0, 0, 7449, 0, 0, 8554, 8424, 0, 0, 0, ...   \n",
       "0  [9984, 0, 0, 0, 0, 0, 0, 8280, 0, 0, 8413, 0, ...   \n",
       "0  [12688, 0, 0, 8404, 0, 10175, 0, 0, 9020, 0, 0...   \n",
       "0  [0, 9800, 12416, 0, 9947, 0, 0, 0, 0, 9405, 0,...   \n",
       "0  [11180, 8103, 0, 0, 0, 0, 0, 9682, 8880, 0, 0,...   \n",
       "0  [0, 0, 0, 8464, 0, 9990, 0, 0, 0, 0, 0, 11070,...   \n",
       "0  [0, 0, 0, 8924, 0, 0, 0, 7770, 0, 0, 12480, 0,...   \n",
       "0  [0, 14256, 0, 0, 8600, 0, 0, 0, 0, 0, 0, 0, 99...   \n",
       "0  [0, 0, 0, 0, 9548, 11780, 0, 0, 0, 0, 8505, 0,...   \n",
       "0  [0, 15111, 0, 0, 11760, 0, 0, 0, 0, 0, 0, 0, 7...   \n",
       "0  [0, 0, 0, 0, 0, 0, 0, 0, 0, 9718, 10206, 0, 0,...   \n",
       "0  [0, 9152, 0, 0, 0, 8918, 0, 0, 0, 0, 0, 0, 107...   \n",
       "0  [11713, 0, 0, 0, 0, 0, 0, 0, 0, 10584, 0, 9552...   \n",
       "\n",
       "                                      position  \n",
       "0  [0.43599490214200376, 0.025926231827891333]  \n",
       "0    [0.25974475274713704, 0.3868898853207624]  \n",
       "0      [0.741755038883449, 0.6530205132311011]  \n",
       "0     [0.2085024945255225, 0.8673815371565234]  \n",
       "0     [0.8931661865670434, 0.8248904812066794]  \n",
       "0    [0.37538143725374984, 0.1947943284958592]  \n",
       "0    [0.5641078118839661, 0.20797501638302762]  \n",
       "0   [0.42364893643829327, 0.14074135541701693]  \n",
       "0     [0.682067861155801, 0.38362915454319146]  \n",
       "0     [0.363158653579688, 0.25602141644724075]  \n",
       "0   [0.25325093974455415, 0.46855266607471036]  \n",
       "0     [0.7189916241768497, 0.6574379737614736]  \n",
       "0  [0.32526811230061636, 0.007933937336056185]  \n",
       "0    [0.4965508756860062, 0.09229556807637873]  \n",
       "0    [0.49256720077586424, 0.8819086975363026]  \n",
       "0     [0.877628861896351, 0.04139800524035486]  \n",
       "0     [0.9743510099518713, 0.6068531894491115]  \n",
       "0    [0.14526041554983027, 0.5911642232160732]  \n",
       "0     [0.723303508772563, 0.01098044027560019]  \n",
       "0     [0.8908615623178063, 0.8428253374360226]  "
      ]
     },
     "execution_count": 15,
     "metadata": {},
     "output_type": "execute_result"
    }
   ],
   "source": [
    "result"
   ]
  },
  {
   "cell_type": "code",
   "execution_count": 9,
   "metadata": {},
   "outputs": [
    {
     "data": {
      "text/plain": [
       "<xarray.Codebook (gene_name: 20, c: 4, h: 4)>\n",
       "array([[[1, 0, 0, 0],\n",
       "        [1, 0, 1, 0],\n",
       "        [0, 1, 0, 0],\n",
       "        [0, 0, 0, 0]],\n",
       "\n",
       "       [[1, 0, 0, 0],\n",
       "        [0, 0, 0, 0],\n",
       "        [1, 0, 0, 0],\n",
       "        [1, 0, 1, 0]],\n",
       "\n",
       "       ...,\n",
       "\n",
       "       [[0, 0, 0, 1],\n",
       "        [1, 1, 0, 0],\n",
       "        [0, 0, 0, 1],\n",
       "        [0, 0, 0, 0]],\n",
       "\n",
       "       [[1, 0, 0, 1],\n",
       "        [0, 0, 1, 0],\n",
       "        [0, 0, 0, 0],\n",
       "        [0, 0, 1, 0]]], dtype=uint8)\n",
       "Coordinates:\n",
       "  * gene_name  (gene_name) int64 110 108 7 11 10 46 106 21 94 103 85 109 39 ...\n",
       "  * c          (c) int64 0 1 2 3\n",
       "  * h          (h) int64 0 1 2 3"
      ]
     },
     "execution_count": 9,
     "metadata": {},
     "output_type": "execute_result"
    }
   ],
   "source": [
    "codebook"
   ]
  },
  {
   "cell_type": "code",
   "execution_count": 3,
   "metadata": {},
   "outputs": [
    {
     "data": {
      "text/plain": [
       "<xarray.IntensityTable (features: 18, c: 4, h: 4)>\n",
       "array([[[ 2915, 25155,  3346, 15654],\n",
       "        [30986,  2699,  2915,  2915],\n",
       "        [ 3346,  3023,  2483,  3023],\n",
       "        [ 2807,  3130,  2915, 24508]],\n",
       "\n",
       "       [[24724,  2915, 18354, 19433],\n",
       "        [ 2699,  2915, 22024,  2483],\n",
       "        [ 3130, 18246,  2591,  2699],\n",
       "        [ 2591, 16626, 34872,  2591]],\n",
       "\n",
       "       ...,\n",
       "\n",
       "       [[ 2915,  2699, 18138,  2915],\n",
       "        [ 2915, 25587, 20081,  2807],\n",
       "        [ 2807,  3238, 18893,  3023],\n",
       "        [ 2699,  3130,  2807,  2807]],\n",
       "\n",
       "       [[ 2699,  3023,  3023,  2699],\n",
       "        [ 2483,  3023, 21377,  2699],\n",
       "        [ 2915,  2699, 21809, 24616],\n",
       "        [ 2591,  2699,  2807, 24724]]])\n",
       "Coordinates:\n",
       "  * features   (features) MultiIndex\n",
       "  - x          (features) int64 97 89 87 73 72 68 56 49 49 43 42 37 36 32 25 ...\n",
       "  - y          (features) int64 60 83 4 65 0 38 20 88 9 2 14 19 25 0 46 38 86 59\n",
       "  - r          (features) float64 2.828 2.828 2.828 2.828 4.086 2.828 2.828 ...\n",
       "  - x_min      (features) float64 94.0 86.0 84.0 70.0 67.0 65.0 53.0 46.0 ...\n",
       "  - x_max      (features) float64 100.0 92.0 90.0 76.0 77.0 71.0 59.0 52.0 ...\n",
       "  - y_min      (features) float64 57.0 80.0 1.0 62.0 0.0 35.0 17.0 85.0 6.0 ...\n",
       "  - y_max      (features) float64 63.0 86.0 7.0 68.0 5.0 41.0 23.0 91.0 12.0 ...\n",
       "  - intensity  (features) int64 30986 34872 24724 30662 23968 21485 21701 ...\n",
       "  - spot_id    (features) int64 0 1 2 3 4 5 6 7 8 9 10 11 12 13 14 15 16 17\n",
       "  - gene       (features) object '77' 'None' 'None' '7' '7' 'None' 'None' ...\n",
       "  * c          (c) int64 0 1 2 3\n",
       "  * h          (h) int64 0 1 2 3"
      ]
     },
     "execution_count": 3,
     "metadata": {},
     "output_type": "execute_result"
    }
   ],
   "source": [
    "intensity_table"
   ]
  },
  {
   "cell_type": "code",
   "execution_count": 57,
   "metadata": {},
   "outputs": [
    {
     "data": {
      "text/plain": [
       "<xarray.IntensityTable (features: 18, c: 4, h: 4)>\n",
       "array([[[ 2915, 25155,  3346, 15654],\n",
       "        [30986,  2699,  2915,  2915],\n",
       "        [ 3346,  3023,  2483,  3023],\n",
       "        [ 2807,  3130,  2915, 24508]],\n",
       "\n",
       "       [[24724,  2915, 18354, 19433],\n",
       "        [ 2699,  2915, 22024,  2483],\n",
       "        [ 3130, 18246,  2591,  2699],\n",
       "        [ 2591, 16626, 34872,  2591]],\n",
       "\n",
       "       ...,\n",
       "\n",
       "       [[ 2915,  2699, 18138,  2915],\n",
       "        [ 2915, 25587, 20081,  2807],\n",
       "        [ 2807,  3238, 18893,  3023],\n",
       "        [ 2699,  3130,  2807,  2807]],\n",
       "\n",
       "       [[ 2699,  3023,  3023,  2699],\n",
       "        [ 2483,  3023, 21377,  2699],\n",
       "        [ 2915,  2699, 21809, 24616],\n",
       "        [ 2591,  2699,  2807, 24724]]])\n",
       "Coordinates:\n",
       "  * features  (features) MultiIndex\n",
       "  - x         (features) int64 97 89 87 73 72 68 56 49 49 43 42 37 36 32 25 ...\n",
       "  - y         (features) int64 60 83 4 65 0 38 20 88 9 2 14 19 25 0 46 38 86 59\n",
       "  - r         (features) float64 2.828 2.828 2.828 2.828 4.086 2.828 2.828 ...\n",
       "  - x_min     (features) float64 94.0 86.0 84.0 70.0 67.0 65.0 53.0 46.0 ...\n",
       "  - x_max     (features) float64 100.0 92.0 90.0 76.0 77.0 71.0 59.0 52.0 ...\n",
       "  - y_min     (features) float64 57.0 80.0 1.0 62.0 0.0 35.0 17.0 85.0 6.0 ...\n",
       "  - y_max     (features) float64 63.0 86.0 7.0 68.0 5.0 41.0 23.0 91.0 12.0 ...\n",
       "  - gene      (features) int64 77 87 27 77 74 94 106 77 32 110 21 46 103 39 ...\n",
       "  - quality   (features) float64 0.8379 0.7114 0.8281 0.7169 0.8298 0.8243 ...\n",
       "  * c         (c) int64 0 1 2 3\n",
       "  * h         (h) int64 0 1 2 3"
      ]
     },
     "execution_count": 57,
     "metadata": {},
     "output_type": "execute_result"
    }
   ],
   "source": [
    "intensity_table"
   ]
  },
  {
   "cell_type": "code",
   "execution_count": 58,
   "metadata": {},
   "outputs": [
    {
     "data": {
      "text/plain": [
       "<xarray.Codebook (gene_name: 20, c: 4, h: 4)>\n",
       "array([[[1, 0, 0, 0],\n",
       "        [1, 0, 1, 0],\n",
       "        [0, 1, 0, 0],\n",
       "        [0, 0, 0, 0]],\n",
       "\n",
       "       [[1, 0, 0, 0],\n",
       "        [0, 0, 0, 0],\n",
       "        [1, 0, 0, 0],\n",
       "        [1, 0, 1, 0]],\n",
       "\n",
       "       ...,\n",
       "\n",
       "       [[0, 0, 0, 1],\n",
       "        [1, 1, 0, 0],\n",
       "        [0, 0, 0, 1],\n",
       "        [0, 0, 0, 0]],\n",
       "\n",
       "       [[1, 0, 0, 1],\n",
       "        [0, 0, 1, 0],\n",
       "        [0, 0, 0, 0],\n",
       "        [0, 0, 1, 0]]], dtype=uint8)\n",
       "Coordinates:\n",
       "  * gene_name  (gene_name) int64 110 108 7 11 10 46 106 21 94 103 85 109 39 ...\n",
       "  * c          (c) int64 0 1 2 3\n",
       "  * h          (h) int64 0 1 2 3"
      ]
     },
     "execution_count": 58,
     "metadata": {},
     "output_type": "execute_result"
    }
   ],
   "source": [
    "xr_codebook"
   ]
  },
  {
   "cell_type": "code",
   "execution_count": 42,
   "metadata": {},
   "outputs": [],
   "source": [
    "x = intensity_table.coords['features'].x.values\n",
    "y = intensity_table.coords['features'].y.values\n",
    "\n",
    "points = pd.DataFrame(dict(x=x, y=y))"
   ]
  },
  {
   "cell_type": "code",
   "execution_count": 44,
   "metadata": {},
   "outputs": [
    {
     "data": {
      "text/html": [
       "<div>\n",
       "<style scoped>\n",
       "    .dataframe tbody tr th:only-of-type {\n",
       "        vertical-align: middle;\n",
       "    }\n",
       "\n",
       "    .dataframe tbody tr th {\n",
       "        vertical-align: top;\n",
       "    }\n",
       "\n",
       "    .dataframe thead th {\n",
       "        text-align: right;\n",
       "    }\n",
       "</style>\n",
       "<table border=\"1\" class=\"dataframe\">\n",
       "  <thead>\n",
       "    <tr style=\"text-align: right;\">\n",
       "      <th></th>\n",
       "      <th>x</th>\n",
       "      <th>y</th>\n",
       "    </tr>\n",
       "  </thead>\n",
       "  <tbody>\n",
       "    <tr>\n",
       "      <th>0</th>\n",
       "      <td>97</td>\n",
       "      <td>60</td>\n",
       "    </tr>\n",
       "    <tr>\n",
       "      <th>1</th>\n",
       "      <td>89</td>\n",
       "      <td>83</td>\n",
       "    </tr>\n",
       "    <tr>\n",
       "      <th>2</th>\n",
       "      <td>87</td>\n",
       "      <td>4</td>\n",
       "    </tr>\n",
       "    <tr>\n",
       "      <th>3</th>\n",
       "      <td>73</td>\n",
       "      <td>65</td>\n",
       "    </tr>\n",
       "    <tr>\n",
       "      <th>4</th>\n",
       "      <td>72</td>\n",
       "      <td>0</td>\n",
       "    </tr>\n",
       "    <tr>\n",
       "      <th>5</th>\n",
       "      <td>68</td>\n",
       "      <td>38</td>\n",
       "    </tr>\n",
       "    <tr>\n",
       "      <th>6</th>\n",
       "      <td>56</td>\n",
       "      <td>20</td>\n",
       "    </tr>\n",
       "    <tr>\n",
       "      <th>7</th>\n",
       "      <td>49</td>\n",
       "      <td>88</td>\n",
       "    </tr>\n",
       "    <tr>\n",
       "      <th>8</th>\n",
       "      <td>49</td>\n",
       "      <td>9</td>\n",
       "    </tr>\n",
       "    <tr>\n",
       "      <th>9</th>\n",
       "      <td>43</td>\n",
       "      <td>2</td>\n",
       "    </tr>\n",
       "    <tr>\n",
       "      <th>10</th>\n",
       "      <td>42</td>\n",
       "      <td>14</td>\n",
       "    </tr>\n",
       "    <tr>\n",
       "      <th>11</th>\n",
       "      <td>37</td>\n",
       "      <td>19</td>\n",
       "    </tr>\n",
       "    <tr>\n",
       "      <th>12</th>\n",
       "      <td>36</td>\n",
       "      <td>25</td>\n",
       "    </tr>\n",
       "    <tr>\n",
       "      <th>13</th>\n",
       "      <td>32</td>\n",
       "      <td>0</td>\n",
       "    </tr>\n",
       "    <tr>\n",
       "      <th>14</th>\n",
       "      <td>25</td>\n",
       "      <td>46</td>\n",
       "    </tr>\n",
       "    <tr>\n",
       "      <th>15</th>\n",
       "      <td>25</td>\n",
       "      <td>38</td>\n",
       "    </tr>\n",
       "    <tr>\n",
       "      <th>16</th>\n",
       "      <td>20</td>\n",
       "      <td>86</td>\n",
       "    </tr>\n",
       "    <tr>\n",
       "      <th>17</th>\n",
       "      <td>14</td>\n",
       "      <td>59</td>\n",
       "    </tr>\n",
       "  </tbody>\n",
       "</table>\n",
       "</div>"
      ],
      "text/plain": [
       "     x   y\n",
       "0   97  60\n",
       "1   89  83\n",
       "2   87   4\n",
       "3   73  65\n",
       "4   72   0\n",
       "5   68  38\n",
       "6   56  20\n",
       "7   49  88\n",
       "8   49   9\n",
       "9   43   2\n",
       "10  42  14\n",
       "11  37  19\n",
       "12  36  25\n",
       "13  32   0\n",
       "14  25  46\n",
       "15  25  38\n",
       "16  20  86\n",
       "17  14  59"
      ]
     },
     "execution_count": 44,
     "metadata": {},
     "output_type": "execute_result"
    }
   ],
   "source": [
    "points"
   ]
  },
  {
   "cell_type": "code",
   "execution_count": 32,
   "metadata": {},
   "outputs": [],
   "source": [
    "results = xr_codebook.decode(intensity_table)"
   ]
  },
  {
   "cell_type": "code",
   "execution_count": 33,
   "metadata": {},
   "outputs": [
    {
     "data": {
      "text/plain": [
       "<xarray.IntensityTable (features: 18, c: 4, h: 4)>\n",
       "array([[[ 2915, 25155,  3346, 15654],\n",
       "        [30986,  2699,  2915,  2915],\n",
       "        [ 3346,  3023,  2483,  3023],\n",
       "        [ 2807,  3130,  2915, 24508]],\n",
       "\n",
       "       [[24724,  2915, 18354, 19433],\n",
       "        [ 2699,  2915, 22024,  2483],\n",
       "        [ 3130, 18246,  2591,  2699],\n",
       "        [ 2591, 16626, 34872,  2591]],\n",
       "\n",
       "       ...,\n",
       "\n",
       "       [[ 2915,  2699, 18138,  2915],\n",
       "        [ 2915, 25587, 20081,  2807],\n",
       "        [ 2807,  3238, 18893,  3023],\n",
       "        [ 2699,  3130,  2807,  2807]],\n",
       "\n",
       "       [[ 2699,  3023,  3023,  2699],\n",
       "        [ 2483,  3023, 21377,  2699],\n",
       "        [ 2915,  2699, 21809, 24616],\n",
       "        [ 2591,  2699,  2807, 24724]]])\n",
       "Coordinates:\n",
       "  * features  (features) MultiIndex\n",
       "  - x         (features) int64 97 89 87 73 72 68 56 49 49 43 42 37 36 32 25 ...\n",
       "  - y         (features) int64 60 83 4 65 0 38 20 88 9 2 14 19 25 0 46 38 86 59\n",
       "  - r         (features) float64 2.828 2.828 2.828 2.828 4.086 2.828 2.828 ...\n",
       "  - x_min     (features) float64 94.0 86.0 84.0 70.0 67.0 65.0 53.0 46.0 ...\n",
       "  - x_max     (features) float64 100.0 92.0 90.0 76.0 77.0 71.0 59.0 52.0 ...\n",
       "  - y_min     (features) float64 57.0 80.0 1.0 62.0 0.0 35.0 17.0 85.0 6.0 ...\n",
       "  - y_max     (features) float64 63.0 86.0 7.0 68.0 5.0 41.0 23.0 91.0 12.0 ...\n",
       "  - gene      (features) int64 77 87 27 77 74 94 106 77 32 110 21 46 103 39 ...\n",
       "  - quality   (features) float64 0.8379 0.7114 0.8281 0.7169 0.8298 0.8243 ...\n",
       "  * c         (c) int64 0 1 2 3\n",
       "  * h         (h) int64 0 1 2 3"
      ]
     },
     "execution_count": 33,
     "metadata": {},
     "output_type": "execute_result"
    }
   ],
   "source": [
    "results"
   ]
  },
  {
   "cell_type": "code",
   "execution_count": 37,
   "metadata": {},
   "outputs": [
    {
     "data": {
      "text/plain": [
       "Int64Index([77, 87, 27, 77, 74, 94, 106, 77, 32, 110, 21, 46, 103, 39, 85, 108,\n",
       "            11, 4],\n",
       "           dtype='int64', name='gene')"
      ]
     },
     "execution_count": 37,
     "metadata": {},
     "output_type": "execute_result"
    }
   ],
   "source": [
    "results.indexes['features'].get_level_values('gene')"
   ]
  },
  {
   "cell_type": "code",
   "execution_count": 34,
   "metadata": {},
   "outputs": [
    {
     "data": {
      "text/plain": [
       "<xarray.Codebook (gene_name: 2, c: 4, h: 4)>\n",
       "array([[[0, 1, 0, 1],\n",
       "        [1, 0, 0, 0],\n",
       "        [0, 0, 0, 0],\n",
       "        [0, 0, 0, 1]],\n",
       "\n",
       "       [[0, 1, 0, 1],\n",
       "        [1, 0, 0, 0],\n",
       "        [0, 0, 0, 0],\n",
       "        [0, 0, 0, 1]]], dtype=uint8)\n",
       "Coordinates:\n",
       "  * gene_name  (gene_name) int64 77 77\n",
       "  * c          (c) int64 0 1 2 3\n",
       "  * h          (h) int64 0 1 2 3"
      ]
     },
     "execution_count": 34,
     "metadata": {},
     "output_type": "execute_result"
    }
   ],
   "source": [
    "xr_codebook.loc[77]"
   ]
  },
  {
   "cell_type": "code",
   "execution_count": 144,
   "metadata": {},
   "outputs": [],
   "source": [
    "norm_intensities = intensity_table.groupby('features').apply(lambda x: x / x.sum())\n",
    "norm_codes = xr_codebook.groupby('codes').apply(lambda x: x / x.sum())"
   ]
  },
  {
   "cell_type": "code",
   "execution_count": 148,
   "metadata": {},
   "outputs": [
    {
     "data": {
      "text/plain": [
       "<xarray.DataArray ()>\n",
       "array(0.162127)\n",
       "Coordinates:\n",
       "    features  object (97, 60, 2.8284271247461903, 94.0, 100.0, 57.0, 63.0)\n",
       "    codes     int64 77"
      ]
     },
     "execution_count": 148,
     "metadata": {},
     "output_type": "execute_result"
    }
   ],
   "source": [
    "np.sqrt(np.sum((norm_intensities[0] - norm_codes[14]) ** 2))"
   ]
  },
  {
   "cell_type": "code",
   "execution_count": 156,
   "metadata": {},
   "outputs": [
    {
     "data": {
      "text/plain": [
       "<xarray.DataArray (codes: 19)>\n",
       "array([0.521081, 0.469842, 0.591049, 0.594157, 0.515162, 0.519904, 0.55237 ,\n",
       "       0.594498, 0.549771, 0.444764, 0.229283, 0.399665, 0.551253, 0.520691,\n",
       "       0.593122, 0.592776, 0.592431, 0.493228, 0.495293])\n",
       "Coordinates:\n",
       "    features  object (97, 60, 2.8284271247461903, 94.0, 100.0, 57.0, 63.0)\n",
       "  * codes     (codes) int64 4 7 10 11 21 27 32 39 46 74 77 85 87 94 103 106 ..."
      ]
     },
     "execution_count": 156,
     "metadata": {},
     "output_type": "execute_result"
    }
   ],
   "source": [
    "np.sqrt(((norm_intensities[0] - norm_codes) ** 2).groupby('codes').apply(np.sum))"
   ]
  },
  {
   "cell_type": "code",
   "execution_count": null,
   "metadata": {},
   "outputs": [],
   "source": [
    "# could also edit values in place"
   ]
  },
  {
   "cell_type": "code",
   "execution_count": 15,
   "metadata": {},
   "outputs": [],
   "source": [
    "func = functools.partial(min_euclidean_distance, codes=norm_codes)\n",
    "distances = norm_intensities.groupby('features').apply(func)"
   ]
  },
  {
   "cell_type": "code",
   "execution_count": 35,
   "metadata": {},
   "outputs": [],
   "source": [
    "min_codes = distances.where(distances == distances.min('codes'))\n",
    "selected_codes_index = np.ceil(max_codes)"
   ]
  },
  {
   "cell_type": "code",
   "execution_count": 41,
   "metadata": {},
   "outputs": [
    {
     "data": {
      "text/plain": [
       "<xarray.DataArray (features: 18)>\n",
       "array([ 0,  3, 16, 11,  7, 14,  8,  4, 18,  6, 10, 15, 13,  9,  1,  5, 12, 10])\n",
       "Coordinates:\n",
       "  * features          (features) MultiIndex\n",
       "  - features_level_0  (features) int64 14 20 25 25 32 36 37 42 43 49 49 56 ...\n",
       "  - features_level_1  (features) int64 59 86 38 46 0 25 19 14 2 9 88 20 38 0 ...\n",
       "  - features_level_2  (features) float64 2.828 2.828 2.828 2.828 2.828 2.828 ...\n",
       "  - features_level_3  (features) float64 11.0 17.0 22.0 22.0 29.0 33.0 34.0 ...\n",
       "  - features_level_4  (features) float64 17.0 23.0 28.0 28.0 35.0 39.0 40.0 ...\n",
       "  - features_level_5  (features) float64 56.0 83.0 35.0 43.0 0.0 22.0 16.0 ...\n",
       "  - features_level_6  (features) float64 62.0 89.0 41.0 49.0 3.0 28.0 22.0 ...\n",
       "  - features_level_7  (features) object nan nan nan nan nan nan nan nan nan ...\n",
       "  - features_level_8  (features) object nan nan nan nan nan nan nan nan nan ..."
      ]
     },
     "execution_count": 41,
     "metadata": {},
     "output_type": "execute_result"
    }
   ],
   "source": [
    "distances.argmin('codes')"
   ]
  },
  {
   "cell_type": "code",
   "execution_count": 40,
   "metadata": {},
   "outputs": [
    {
     "data": {
      "text/plain": [
       "<xarray.DataArray (features: 18)>\n",
       "array([ 0,  3, 16, 11,  7, 14,  8,  4, 18,  6, 10, 15, 13,  9,  1,  5, 12, 10])\n",
       "Coordinates:\n",
       "  * features          (features) MultiIndex\n",
       "  - features_level_0  (features) int64 14 20 25 25 32 36 37 42 43 49 49 56 ...\n",
       "  - features_level_1  (features) int64 59 86 38 46 0 25 19 14 2 9 88 20 38 0 ...\n",
       "  - features_level_2  (features) float64 2.828 2.828 2.828 2.828 2.828 2.828 ...\n",
       "  - features_level_3  (features) float64 11.0 17.0 22.0 22.0 29.0 33.0 34.0 ...\n",
       "  - features_level_4  (features) float64 17.0 23.0 28.0 28.0 35.0 39.0 40.0 ...\n",
       "  - features_level_5  (features) float64 56.0 83.0 35.0 43.0 0.0 22.0 16.0 ...\n",
       "  - features_level_6  (features) float64 62.0 89.0 41.0 49.0 3.0 28.0 22.0 ...\n",
       "  - features_level_7  (features) object nan nan nan nan nan nan nan nan nan ...\n",
       "  - features_level_8  (features) object nan nan nan nan nan nan nan nan nan ..."
      ]
     },
     "execution_count": 40,
     "metadata": {},
     "output_type": "execute_result"
    }
   ],
   "source": [
    "min_codes.argmin('codes')"
   ]
  },
  {
   "cell_type": "code",
   "execution_count": 38,
   "metadata": {},
   "outputs": [
    {
     "data": {
      "text/plain": [
       "<xarray.DataArray (features: 18, codes: 19)>\n",
       "array([[0.155031,      nan,      nan, ...,      nan,      nan,      nan],\n",
       "       [     nan,      nan,      nan, ...,      nan,      nan,      nan],\n",
       "       [     nan,      nan,      nan, ..., 0.15112 ,      nan,      nan],\n",
       "       ...,\n",
       "       [     nan,      nan,      nan, ...,      nan,      nan,      nan],\n",
       "       [     nan,      nan,      nan, ...,      nan,      nan,      nan],\n",
       "       [     nan,      nan,      nan, ...,      nan,      nan,      nan]])\n",
       "Coordinates:\n",
       "  * codes             (codes) int64 4 7 10 11 21 27 32 39 46 74 77 85 87 94 ...\n",
       "  * features          (features) MultiIndex\n",
       "  - features_level_0  (features) int64 14 20 25 25 32 36 37 42 43 49 49 56 ...\n",
       "  - features_level_1  (features) int64 59 86 38 46 0 25 19 14 2 9 88 20 38 0 ...\n",
       "  - features_level_2  (features) float64 2.828 2.828 2.828 2.828 2.828 2.828 ...\n",
       "  - features_level_3  (features) float64 11.0 17.0 22.0 22.0 29.0 33.0 34.0 ...\n",
       "  - features_level_4  (features) float64 17.0 23.0 28.0 28.0 35.0 39.0 40.0 ...\n",
       "  - features_level_5  (features) float64 56.0 83.0 35.0 43.0 0.0 22.0 16.0 ...\n",
       "  - features_level_6  (features) float64 62.0 89.0 41.0 49.0 3.0 28.0 22.0 ...\n",
       "  - features_level_7  (features) object nan nan nan nan nan nan nan nan nan ...\n",
       "  - features_level_8  (features) object nan nan nan nan nan nan nan nan nan ..."
      ]
     },
     "execution_count": 38,
     "metadata": {},
     "output_type": "execute_result"
    }
   ],
   "source": [
    "np.argmax(min_codes, axis=1)"
   ]
  },
  {
   "cell_type": "code",
   "execution_count": 37,
   "metadata": {},
   "outputs": [
    {
     "data": {
      "text/plain": [
       "<xarray.DataArray (features: 18)>\n",
       "array([0.155031, 0.178009, 0.15112 , 0.166003, 0.098847, 0.222323, 0.228627,\n",
       "       0.214218, 0.179987, 0.177983, 0.21766 , 0.180043, 0.175726, 0.170241,\n",
       "       0.291551, 0.171933, 0.288613, 0.229283])\n",
       "Coordinates:\n",
       "  * features          (features) MultiIndex\n",
       "  - features_level_0  (features) int64 14 20 25 25 32 36 37 42 43 49 49 56 ...\n",
       "  - features_level_1  (features) int64 59 86 38 46 0 25 19 14 2 9 88 20 38 0 ...\n",
       "  - features_level_2  (features) float64 2.828 2.828 2.828 2.828 2.828 2.828 ...\n",
       "  - features_level_3  (features) float64 11.0 17.0 22.0 22.0 29.0 33.0 34.0 ...\n",
       "  - features_level_4  (features) float64 17.0 23.0 28.0 28.0 35.0 39.0 40.0 ...\n",
       "  - features_level_5  (features) float64 56.0 83.0 35.0 43.0 0.0 22.0 16.0 ...\n",
       "  - features_level_6  (features) float64 62.0 89.0 41.0 49.0 3.0 28.0 22.0 ...\n",
       "  - features_level_7  (features) object nan nan nan nan nan nan nan nan nan ...\n",
       "  - features_level_8  (features) object nan nan nan nan nan nan nan nan nan ..."
      ]
     },
     "execution_count": 37,
     "metadata": {},
     "output_type": "execute_result"
    }
   ],
   "source": [
    "distances.min('codes')"
   ]
  },
  {
   "cell_type": "code",
   "execution_count": 17,
   "metadata": {},
   "outputs": [],
   "source": [
    "selected_codes = np.argmax(selected_codes_index, axis=1)"
   ]
  },
  {
   "cell_type": "code",
   "execution_count": 18,
   "metadata": {},
   "outputs": [],
   "source": [
    "gene_ids = selected_codes_index.indexes['codes'].values[selected_codes.values]"
   ]
  },
  {
   "cell_type": "code",
   "execution_count": 34,
   "metadata": {},
   "outputs": [
    {
     "data": {
      "text/plain": [
       "<xarray.DataArray (codes: 19)>\n",
       "array([0.155031, 0.291551, 0.345697, 0.178009, 0.214218, 0.171933, 0.177983,\n",
       "       0.098847, 0.228627, 0.170241, 0.21766 , 0.166003, 0.288613, 0.175726,\n",
       "       0.222323, 0.180043, 0.15112 , 0.357655, 0.179987])\n",
       "Coordinates:\n",
       "  * codes    (codes) int64 4 7 10 11 21 27 32 39 46 74 77 85 87 94 103 106 ..."
      ]
     },
     "execution_count": 34,
     "metadata": {},
     "output_type": "execute_result"
    }
   ],
   "source": [
    "distances.min('features')"
   ]
  },
  {
   "cell_type": "code",
   "execution_count": 32,
   "metadata": {},
   "outputs": [
    {
     "data": {
      "text/plain": [
       "<xarray.DataArray (codes: 19)>\n",
       "array([     nan, 0.586083,      nan,      nan,      nan, 0.579017,      nan,\n",
       "       0.594498, 0.572325,      nan, 0.699881, 0.585424,      nan,      nan,\n",
       "            nan,      nan, 0.591967, 0.590106, 0.566737])\n",
       "Coordinates:\n",
       "  * codes    (codes) int64 4 7 10 11 21 27 32 39 46 74 77 85 87 94 103 106 ..."
      ]
     },
     "execution_count": 32,
     "metadata": {},
     "output_type": "execute_result"
    }
   ],
   "source": [
    "max_codes.max('features')"
   ]
  },
  {
   "cell_type": "code",
   "execution_count": 49,
   "metadata": {},
   "outputs": [],
   "source": [
    "intensity_table.indexes['features'].set_levels(gene_ids, 'gene', inplace=True)"
   ]
  },
  {
   "cell_type": "code",
   "execution_count": 19,
   "metadata": {},
   "outputs": [
    {
     "data": {
      "text/plain": [
       "array([109,  77,  77,   7,  77,  85, 110, 110,  46,  85, 108,  77,  39,\n",
       "       108,  27,   7,  27,  39])"
      ]
     },
     "execution_count": 19,
     "metadata": {},
     "output_type": "execute_result"
    }
   ],
   "source": [
    "gene_ids"
   ]
  },
  {
   "cell_type": "code",
   "execution_count": 135,
   "metadata": {},
   "outputs": [
    {
     "data": {
      "text/plain": [
       "('features', 'c', 'h')"
      ]
     },
     "execution_count": 135,
     "metadata": {},
     "output_type": "execute_result"
    }
   ],
   "source": [
    "intensity_table.dims"
   ]
  },
  {
   "cell_type": "code",
   "execution_count": 152,
   "metadata": {},
   "outputs": [
    {
     "data": {
      "text/html": [
       "<div>\n",
       "<style scoped>\n",
       "    .dataframe tbody tr th:only-of-type {\n",
       "        vertical-align: middle;\n",
       "    }\n",
       "\n",
       "    .dataframe tbody tr th {\n",
       "        vertical-align: top;\n",
       "    }\n",
       "\n",
       "    .dataframe thead th {\n",
       "        text-align: right;\n",
       "    }\n",
       "</style>\n",
       "<table border=\"1\" class=\"dataframe\">\n",
       "  <thead>\n",
       "    <tr style=\"text-align: right;\">\n",
       "      <th></th>\n",
       "      <th></th>\n",
       "      <th></th>\n",
       "      <th></th>\n",
       "      <th></th>\n",
       "      <th></th>\n",
       "      <th></th>\n",
       "      <th>r</th>\n",
       "      <th>x</th>\n",
       "      <th>x_max</th>\n",
       "      <th>x_min</th>\n",
       "      <th>y</th>\n",
       "      <th>y_max</th>\n",
       "      <th>y_min</th>\n",
       "    </tr>\n",
       "    <tr>\n",
       "      <th>x</th>\n",
       "      <th>y</th>\n",
       "      <th>r</th>\n",
       "      <th>x_min</th>\n",
       "      <th>x_max</th>\n",
       "      <th>y_min</th>\n",
       "      <th>y_max</th>\n",
       "      <th></th>\n",
       "      <th></th>\n",
       "      <th></th>\n",
       "      <th></th>\n",
       "      <th></th>\n",
       "      <th></th>\n",
       "      <th></th>\n",
       "    </tr>\n",
       "  </thead>\n",
       "  <tbody>\n",
       "    <tr>\n",
       "      <th>97</th>\n",
       "      <th>60</th>\n",
       "      <th>2.828427</th>\n",
       "      <th>94.0</th>\n",
       "      <th>100.0</th>\n",
       "      <th>57.0</th>\n",
       "      <th>63.0</th>\n",
       "      <td>2.828427</td>\n",
       "      <td>97</td>\n",
       "      <td>100.0</td>\n",
       "      <td>94.0</td>\n",
       "      <td>60</td>\n",
       "      <td>63.0</td>\n",
       "      <td>57.0</td>\n",
       "    </tr>\n",
       "    <tr>\n",
       "      <th>89</th>\n",
       "      <th>83</th>\n",
       "      <th>2.828427</th>\n",
       "      <th>86.0</th>\n",
       "      <th>92.0</th>\n",
       "      <th>80.0</th>\n",
       "      <th>86.0</th>\n",
       "      <td>2.828427</td>\n",
       "      <td>89</td>\n",
       "      <td>92.0</td>\n",
       "      <td>86.0</td>\n",
       "      <td>83</td>\n",
       "      <td>86.0</td>\n",
       "      <td>80.0</td>\n",
       "    </tr>\n",
       "    <tr>\n",
       "      <th>87</th>\n",
       "      <th>4</th>\n",
       "      <th>2.828427</th>\n",
       "      <th>84.0</th>\n",
       "      <th>90.0</th>\n",
       "      <th>1.0</th>\n",
       "      <th>7.0</th>\n",
       "      <td>2.828427</td>\n",
       "      <td>87</td>\n",
       "      <td>90.0</td>\n",
       "      <td>84.0</td>\n",
       "      <td>4</td>\n",
       "      <td>7.0</td>\n",
       "      <td>1.0</td>\n",
       "    </tr>\n",
       "    <tr>\n",
       "      <th>73</th>\n",
       "      <th>65</th>\n",
       "      <th>2.828427</th>\n",
       "      <th>70.0</th>\n",
       "      <th>76.0</th>\n",
       "      <th>62.0</th>\n",
       "      <th>68.0</th>\n",
       "      <td>2.828427</td>\n",
       "      <td>73</td>\n",
       "      <td>76.0</td>\n",
       "      <td>70.0</td>\n",
       "      <td>65</td>\n",
       "      <td>68.0</td>\n",
       "      <td>62.0</td>\n",
       "    </tr>\n",
       "    <tr>\n",
       "      <th>72</th>\n",
       "      <th>0</th>\n",
       "      <th>4.085506</th>\n",
       "      <th>67.0</th>\n",
       "      <th>77.0</th>\n",
       "      <th>0.0</th>\n",
       "      <th>5.0</th>\n",
       "      <td>4.085506</td>\n",
       "      <td>72</td>\n",
       "      <td>77.0</td>\n",
       "      <td>67.0</td>\n",
       "      <td>0</td>\n",
       "      <td>5.0</td>\n",
       "      <td>0.0</td>\n",
       "    </tr>\n",
       "    <tr>\n",
       "      <th>68</th>\n",
       "      <th>38</th>\n",
       "      <th>2.828427</th>\n",
       "      <th>65.0</th>\n",
       "      <th>71.0</th>\n",
       "      <th>35.0</th>\n",
       "      <th>41.0</th>\n",
       "      <td>2.828427</td>\n",
       "      <td>68</td>\n",
       "      <td>71.0</td>\n",
       "      <td>65.0</td>\n",
       "      <td>38</td>\n",
       "      <td>41.0</td>\n",
       "      <td>35.0</td>\n",
       "    </tr>\n",
       "    <tr>\n",
       "      <th>56</th>\n",
       "      <th>20</th>\n",
       "      <th>2.828427</th>\n",
       "      <th>53.0</th>\n",
       "      <th>59.0</th>\n",
       "      <th>17.0</th>\n",
       "      <th>23.0</th>\n",
       "      <td>2.828427</td>\n",
       "      <td>56</td>\n",
       "      <td>59.0</td>\n",
       "      <td>53.0</td>\n",
       "      <td>20</td>\n",
       "      <td>23.0</td>\n",
       "      <td>17.0</td>\n",
       "    </tr>\n",
       "    <tr>\n",
       "      <th rowspan=\"2\" valign=\"top\">49</th>\n",
       "      <th>88</th>\n",
       "      <th>2.828427</th>\n",
       "      <th>46.0</th>\n",
       "      <th>52.0</th>\n",
       "      <th>85.0</th>\n",
       "      <th>91.0</th>\n",
       "      <td>2.828427</td>\n",
       "      <td>49</td>\n",
       "      <td>52.0</td>\n",
       "      <td>46.0</td>\n",
       "      <td>88</td>\n",
       "      <td>91.0</td>\n",
       "      <td>85.0</td>\n",
       "    </tr>\n",
       "    <tr>\n",
       "      <th>9</th>\n",
       "      <th>2.828427</th>\n",
       "      <th>46.0</th>\n",
       "      <th>52.0</th>\n",
       "      <th>6.0</th>\n",
       "      <th>12.0</th>\n",
       "      <td>2.828427</td>\n",
       "      <td>49</td>\n",
       "      <td>52.0</td>\n",
       "      <td>46.0</td>\n",
       "      <td>9</td>\n",
       "      <td>12.0</td>\n",
       "      <td>6.0</td>\n",
       "    </tr>\n",
       "    <tr>\n",
       "      <th>43</th>\n",
       "      <th>2</th>\n",
       "      <th>2.828427</th>\n",
       "      <th>40.0</th>\n",
       "      <th>46.0</th>\n",
       "      <th>0.0</th>\n",
       "      <th>5.0</th>\n",
       "      <td>2.828427</td>\n",
       "      <td>43</td>\n",
       "      <td>46.0</td>\n",
       "      <td>40.0</td>\n",
       "      <td>2</td>\n",
       "      <td>5.0</td>\n",
       "      <td>0.0</td>\n",
       "    </tr>\n",
       "    <tr>\n",
       "      <th>42</th>\n",
       "      <th>14</th>\n",
       "      <th>2.828427</th>\n",
       "      <th>39.0</th>\n",
       "      <th>45.0</th>\n",
       "      <th>11.0</th>\n",
       "      <th>17.0</th>\n",
       "      <td>2.828427</td>\n",
       "      <td>42</td>\n",
       "      <td>45.0</td>\n",
       "      <td>39.0</td>\n",
       "      <td>14</td>\n",
       "      <td>17.0</td>\n",
       "      <td>11.0</td>\n",
       "    </tr>\n",
       "    <tr>\n",
       "      <th>37</th>\n",
       "      <th>19</th>\n",
       "      <th>2.828427</th>\n",
       "      <th>34.0</th>\n",
       "      <th>40.0</th>\n",
       "      <th>16.0</th>\n",
       "      <th>22.0</th>\n",
       "      <td>2.828427</td>\n",
       "      <td>37</td>\n",
       "      <td>40.0</td>\n",
       "      <td>34.0</td>\n",
       "      <td>19</td>\n",
       "      <td>22.0</td>\n",
       "      <td>16.0</td>\n",
       "    </tr>\n",
       "    <tr>\n",
       "      <th>36</th>\n",
       "      <th>25</th>\n",
       "      <th>2.828427</th>\n",
       "      <th>33.0</th>\n",
       "      <th>39.0</th>\n",
       "      <th>22.0</th>\n",
       "      <th>28.0</th>\n",
       "      <td>2.828427</td>\n",
       "      <td>36</td>\n",
       "      <td>39.0</td>\n",
       "      <td>33.0</td>\n",
       "      <td>25</td>\n",
       "      <td>28.0</td>\n",
       "      <td>22.0</td>\n",
       "    </tr>\n",
       "    <tr>\n",
       "      <th>32</th>\n",
       "      <th>0</th>\n",
       "      <th>2.828427</th>\n",
       "      <th>29.0</th>\n",
       "      <th>35.0</th>\n",
       "      <th>0.0</th>\n",
       "      <th>3.0</th>\n",
       "      <td>2.828427</td>\n",
       "      <td>32</td>\n",
       "      <td>35.0</td>\n",
       "      <td>29.0</td>\n",
       "      <td>0</td>\n",
       "      <td>3.0</td>\n",
       "      <td>0.0</td>\n",
       "    </tr>\n",
       "    <tr>\n",
       "      <th rowspan=\"2\" valign=\"top\">25</th>\n",
       "      <th>46</th>\n",
       "      <th>2.828427</th>\n",
       "      <th>22.0</th>\n",
       "      <th>28.0</th>\n",
       "      <th>43.0</th>\n",
       "      <th>49.0</th>\n",
       "      <td>2.828427</td>\n",
       "      <td>25</td>\n",
       "      <td>28.0</td>\n",
       "      <td>22.0</td>\n",
       "      <td>46</td>\n",
       "      <td>49.0</td>\n",
       "      <td>43.0</td>\n",
       "    </tr>\n",
       "    <tr>\n",
       "      <th>38</th>\n",
       "      <th>2.828427</th>\n",
       "      <th>22.0</th>\n",
       "      <th>28.0</th>\n",
       "      <th>35.0</th>\n",
       "      <th>41.0</th>\n",
       "      <td>2.828427</td>\n",
       "      <td>25</td>\n",
       "      <td>28.0</td>\n",
       "      <td>22.0</td>\n",
       "      <td>38</td>\n",
       "      <td>41.0</td>\n",
       "      <td>35.0</td>\n",
       "    </tr>\n",
       "    <tr>\n",
       "      <th>20</th>\n",
       "      <th>86</th>\n",
       "      <th>2.828427</th>\n",
       "      <th>17.0</th>\n",
       "      <th>23.0</th>\n",
       "      <th>83.0</th>\n",
       "      <th>89.0</th>\n",
       "      <td>2.828427</td>\n",
       "      <td>20</td>\n",
       "      <td>23.0</td>\n",
       "      <td>17.0</td>\n",
       "      <td>86</td>\n",
       "      <td>89.0</td>\n",
       "      <td>83.0</td>\n",
       "    </tr>\n",
       "    <tr>\n",
       "      <th>14</th>\n",
       "      <th>59</th>\n",
       "      <th>2.828427</th>\n",
       "      <th>11.0</th>\n",
       "      <th>17.0</th>\n",
       "      <th>56.0</th>\n",
       "      <th>62.0</th>\n",
       "      <td>2.828427</td>\n",
       "      <td>14</td>\n",
       "      <td>17.0</td>\n",
       "      <td>11.0</td>\n",
       "      <td>59</td>\n",
       "      <td>62.0</td>\n",
       "      <td>56.0</td>\n",
       "    </tr>\n",
       "  </tbody>\n",
       "</table>\n",
       "</div>"
      ],
      "text/plain": [
       "                                               r   x  x_max  x_min   y  y_max  \\\n",
       "x  y  r        x_min x_max y_min y_max                                          \n",
       "97 60 2.828427 94.0  100.0 57.0  63.0   2.828427  97  100.0   94.0  60   63.0   \n",
       "89 83 2.828427 86.0  92.0  80.0  86.0   2.828427  89   92.0   86.0  83   86.0   \n",
       "87 4  2.828427 84.0  90.0  1.0   7.0    2.828427  87   90.0   84.0   4    7.0   \n",
       "73 65 2.828427 70.0  76.0  62.0  68.0   2.828427  73   76.0   70.0  65   68.0   \n",
       "72 0  4.085506 67.0  77.0  0.0   5.0    4.085506  72   77.0   67.0   0    5.0   \n",
       "68 38 2.828427 65.0  71.0  35.0  41.0   2.828427  68   71.0   65.0  38   41.0   \n",
       "56 20 2.828427 53.0  59.0  17.0  23.0   2.828427  56   59.0   53.0  20   23.0   \n",
       "49 88 2.828427 46.0  52.0  85.0  91.0   2.828427  49   52.0   46.0  88   91.0   \n",
       "   9  2.828427 46.0  52.0  6.0   12.0   2.828427  49   52.0   46.0   9   12.0   \n",
       "43 2  2.828427 40.0  46.0  0.0   5.0    2.828427  43   46.0   40.0   2    5.0   \n",
       "42 14 2.828427 39.0  45.0  11.0  17.0   2.828427  42   45.0   39.0  14   17.0   \n",
       "37 19 2.828427 34.0  40.0  16.0  22.0   2.828427  37   40.0   34.0  19   22.0   \n",
       "36 25 2.828427 33.0  39.0  22.0  28.0   2.828427  36   39.0   33.0  25   28.0   \n",
       "32 0  2.828427 29.0  35.0  0.0   3.0    2.828427  32   35.0   29.0   0    3.0   \n",
       "25 46 2.828427 22.0  28.0  43.0  49.0   2.828427  25   28.0   22.0  46   49.0   \n",
       "   38 2.828427 22.0  28.0  35.0  41.0   2.828427  25   28.0   22.0  38   41.0   \n",
       "20 86 2.828427 17.0  23.0  83.0  89.0   2.828427  20   23.0   17.0  86   89.0   \n",
       "14 59 2.828427 11.0  17.0  56.0  62.0   2.828427  14   17.0   11.0  59   62.0   \n",
       "\n",
       "                                        y_min  \n",
       "x  y  r        x_min x_max y_min y_max         \n",
       "97 60 2.828427 94.0  100.0 57.0  63.0    57.0  \n",
       "89 83 2.828427 86.0  92.0  80.0  86.0    80.0  \n",
       "87 4  2.828427 84.0  90.0  1.0   7.0      1.0  \n",
       "73 65 2.828427 70.0  76.0  62.0  68.0    62.0  \n",
       "72 0  4.085506 67.0  77.0  0.0   5.0      0.0  \n",
       "68 38 2.828427 65.0  71.0  35.0  41.0    35.0  \n",
       "56 20 2.828427 53.0  59.0  17.0  23.0    17.0  \n",
       "49 88 2.828427 46.0  52.0  85.0  91.0    85.0  \n",
       "   9  2.828427 46.0  52.0  6.0   12.0     6.0  \n",
       "43 2  2.828427 40.0  46.0  0.0   5.0      0.0  \n",
       "42 14 2.828427 39.0  45.0  11.0  17.0    11.0  \n",
       "37 19 2.828427 34.0  40.0  16.0  22.0    16.0  \n",
       "36 25 2.828427 33.0  39.0  22.0  28.0    22.0  \n",
       "32 0  2.828427 29.0  35.0  0.0   3.0      0.0  \n",
       "25 46 2.828427 22.0  28.0  43.0  49.0    43.0  \n",
       "   38 2.828427 22.0  28.0  35.0  41.0    35.0  \n",
       "20 86 2.828427 17.0  23.0  83.0  89.0    83.0  \n",
       "14 59 2.828427 11.0  17.0  56.0  62.0    56.0  "
      ]
     },
     "execution_count": 152,
     "metadata": {},
     "output_type": "execute_result"
    }
   ],
   "source": [
    "intensity_table.indexes['features'].to_frame()"
   ]
  },
  {
   "cell_type": "code",
   "execution_count": 155,
   "metadata": {},
   "outputs": [],
   "source": [
    "def append_multiindex_level(multiindex, data, name):\n",
    "    \"\"\"stupid thing necessary because pandas doesn't do this\"\"\"\n",
    "    frame = multiindex.to_frame()\n",
    "    frame[name] = data\n",
    "    frame.set_index(name, append=True, inplace=True)\n",
    "    return frame.index"
   ]
  },
  {
   "cell_type": "code",
   "execution_count": 157,
   "metadata": {},
   "outputs": [],
   "source": [
    "augmented_index = append_multiindex_level(intensity_table.indexes['features'], gene_ids, 'gene_name')"
   ]
  },
  {
   "cell_type": "code",
   "execution_count": 166,
   "metadata": {},
   "outputs": [
    {
     "data": {
      "text/plain": [
       "Int64Index([97, 89, 87, 73, 72, 68, 56, 49, 49, 43, 42, 37, 36, 32, 25, 25, 20,\n",
       "            14],\n",
       "           dtype='int64', name='x')"
      ]
     },
     "execution_count": 166,
     "metadata": {},
     "output_type": "execute_result"
    }
   ],
   "source": [
    "augmented_index.get_level_values('x')"
   ]
  },
  {
   "cell_type": "code",
   "execution_count": null,
   "metadata": {},
   "outputs": [],
   "source": [
    "# I'm not sure they like me messing around with indices. I could prefill the index, or hack around with a new constructor."
   ]
  },
  {
   "cell_type": "code",
   "execution_count": 169,
   "metadata": {},
   "outputs": [
    {
     "data": {
      "text/plain": [
       "<xarray.IntensityTable (features: 18, c: 4, h: 4)>\n",
       "array([[[nan, nan, nan, nan],\n",
       "        [nan, nan, nan, nan],\n",
       "        [nan, nan, nan, nan],\n",
       "        [nan, nan, nan, nan]],\n",
       "\n",
       "       [[nan, nan, nan, nan],\n",
       "        [nan, nan, nan, nan],\n",
       "        [nan, nan, nan, nan],\n",
       "        [nan, nan, nan, nan]],\n",
       "\n",
       "       ...,\n",
       "\n",
       "       [[nan, nan, nan, nan],\n",
       "        [nan, nan, nan, nan],\n",
       "        [nan, nan, nan, nan],\n",
       "        [nan, nan, nan, nan]],\n",
       "\n",
       "       [[nan, nan, nan, nan],\n",
       "        [nan, nan, nan, nan],\n",
       "        [nan, nan, nan, nan],\n",
       "        [nan, nan, nan, nan]]])\n",
       "Coordinates:\n",
       "  * features   (features) MultiIndex\n",
       "  - x          (features) int64 97 89 87 73 72 68 56 49 49 43 42 37 36 32 25 ...\n",
       "  - y          (features) int64 60 83 4 65 0 38 20 88 9 2 14 19 25 0 46 38 86 59\n",
       "  - r          (features) float64 2.828 2.828 2.828 2.828 4.086 2.828 2.828 ...\n",
       "  - x_min      (features) float64 94.0 86.0 84.0 70.0 67.0 65.0 53.0 46.0 ...\n",
       "  - x_max      (features) float64 100.0 92.0 90.0 76.0 77.0 71.0 59.0 52.0 ...\n",
       "  - y_min      (features) float64 57.0 80.0 1.0 62.0 0.0 35.0 17.0 85.0 6.0 ...\n",
       "  - y_max      (features) float64 63.0 86.0 7.0 68.0 5.0 41.0 23.0 91.0 12.0 ...\n",
       "  - gene_name  (features) int64 109 77 77 7 77 85 110 110 46 85 108 77 39 ...\n",
       "  * c          (c) int64 0 1 2 3\n",
       "  * h          (h) int64 0 1 2 3"
      ]
     },
     "execution_count": 169,
     "metadata": {},
     "output_type": "execute_result"
    }
   ],
   "source": [
    "intensity_table.reindex(indexers={'features': augmented_index})"
   ]
  },
  {
   "cell_type": "code",
   "execution_count": 167,
   "metadata": {},
   "outputs": [
    {
     "ename": "TypeError",
     "evalue": "unhashable type: 'Int64Index'",
     "output_type": "error",
     "traceback": [
      "\u001b[0;31m---------------------------------------------------------------------------\u001b[0m",
      "\u001b[0;31mTypeError\u001b[0m                                 Traceback (most recent call last)",
      "\u001b[0;32m<ipython-input-167-389a7e6f531a>\u001b[0m in \u001b[0;36m<module>\u001b[0;34m()\u001b[0m\n\u001b[0;32m----> 1\u001b[0;31m \u001b[0mintensity_table\u001b[0m\u001b[0;34m.\u001b[0m\u001b[0mset_index\u001b[0m\u001b[0;34m(\u001b[0m\u001b[0mfeatures\u001b[0m\u001b[0;34m=\u001b[0m\u001b[0;34m[\u001b[0m\u001b[0maugmented_index\u001b[0m\u001b[0;34m.\u001b[0m\u001b[0mget_level_values\u001b[0m\u001b[0;34m(\u001b[0m\u001b[0mname\u001b[0m\u001b[0;34m)\u001b[0m \u001b[0;32mfor\u001b[0m \u001b[0mname\u001b[0m \u001b[0;32min\u001b[0m \u001b[0maugmented_index\u001b[0m\u001b[0;34m.\u001b[0m\u001b[0mnames\u001b[0m\u001b[0;34m]\u001b[0m\u001b[0;34m)\u001b[0m\u001b[0;34m\u001b[0m\u001b[0m\n\u001b[0m",
      "\u001b[0;32m/usr/local/lib/python3.6/site-packages/xarray/core/dataarray.py\u001b[0m in \u001b[0;36mset_index\u001b[0;34m(self, append, inplace, **indexes)\u001b[0m\n\u001b[1;32m   1062\u001b[0m         \u001b[0mDataArray\u001b[0m\u001b[0;34m.\u001b[0m\u001b[0mreset_index\u001b[0m\u001b[0;34m\u001b[0m\u001b[0m\n\u001b[1;32m   1063\u001b[0m         \"\"\"\n\u001b[0;32m-> 1064\u001b[0;31m         \u001b[0mcoords\u001b[0m\u001b[0;34m,\u001b[0m \u001b[0m_\u001b[0m \u001b[0;34m=\u001b[0m \u001b[0mmerge_indexes\u001b[0m\u001b[0;34m(\u001b[0m\u001b[0mindexes\u001b[0m\u001b[0;34m,\u001b[0m \u001b[0mself\u001b[0m\u001b[0;34m.\u001b[0m\u001b[0m_coords\u001b[0m\u001b[0;34m,\u001b[0m \u001b[0mset\u001b[0m\u001b[0;34m(\u001b[0m\u001b[0;34m)\u001b[0m\u001b[0;34m,\u001b[0m \u001b[0mappend\u001b[0m\u001b[0;34m=\u001b[0m\u001b[0mappend\u001b[0m\u001b[0;34m)\u001b[0m\u001b[0;34m\u001b[0m\u001b[0m\n\u001b[0m\u001b[1;32m   1065\u001b[0m         \u001b[0;32mif\u001b[0m \u001b[0minplace\u001b[0m\u001b[0;34m:\u001b[0m\u001b[0;34m\u001b[0m\u001b[0m\n\u001b[1;32m   1066\u001b[0m             \u001b[0mself\u001b[0m\u001b[0;34m.\u001b[0m\u001b[0m_coords\u001b[0m \u001b[0;34m=\u001b[0m \u001b[0mcoords\u001b[0m\u001b[0;34m\u001b[0m\u001b[0m\n",
      "\u001b[0;32m/usr/local/lib/python3.6/site-packages/xarray/core/dataset.py\u001b[0m in \u001b[0;36mmerge_indexes\u001b[0;34m(indexes, variables, coord_names, append)\u001b[0m\n\u001b[1;32m    134\u001b[0m \u001b[0;34m\u001b[0m\u001b[0m\n\u001b[1;32m    135\u001b[0m         \u001b[0;32mfor\u001b[0m \u001b[0mn\u001b[0m \u001b[0;32min\u001b[0m \u001b[0mvar_names\u001b[0m\u001b[0;34m:\u001b[0m\u001b[0;34m\u001b[0m\u001b[0m\n\u001b[0;32m--> 136\u001b[0;31m             \u001b[0mvar\u001b[0m \u001b[0;34m=\u001b[0m \u001b[0mvariables\u001b[0m\u001b[0;34m[\u001b[0m\u001b[0mn\u001b[0m\u001b[0;34m]\u001b[0m\u001b[0;34m\u001b[0m\u001b[0m\n\u001b[0m\u001b[1;32m    137\u001b[0m             if (current_index_variable is not None and\n\u001b[1;32m    138\u001b[0m                     var.dims != current_index_variable.dims):\n",
      "\u001b[0;32m/usr/local/lib/python3.6/site-packages/pandas/core/indexes/base.py\u001b[0m in \u001b[0;36m__hash__\u001b[0;34m(self)\u001b[0m\n\u001b[1;32m   1719\u001b[0m \u001b[0;34m\u001b[0m\u001b[0m\n\u001b[1;32m   1720\u001b[0m     \u001b[0;32mdef\u001b[0m \u001b[0m__hash__\u001b[0m\u001b[0;34m(\u001b[0m\u001b[0mself\u001b[0m\u001b[0;34m)\u001b[0m\u001b[0;34m:\u001b[0m\u001b[0;34m\u001b[0m\u001b[0m\n\u001b[0;32m-> 1721\u001b[0;31m         \u001b[0;32mraise\u001b[0m \u001b[0mTypeError\u001b[0m\u001b[0;34m(\u001b[0m\u001b[0;34m\"unhashable type: %r\"\u001b[0m \u001b[0;34m%\u001b[0m \u001b[0mtype\u001b[0m\u001b[0;34m(\u001b[0m\u001b[0mself\u001b[0m\u001b[0;34m)\u001b[0m\u001b[0;34m.\u001b[0m\u001b[0m__name__\u001b[0m\u001b[0;34m)\u001b[0m\u001b[0;34m\u001b[0m\u001b[0m\n\u001b[0m\u001b[1;32m   1722\u001b[0m \u001b[0;34m\u001b[0m\u001b[0m\n\u001b[1;32m   1723\u001b[0m     \u001b[0;32mdef\u001b[0m \u001b[0m__setitem__\u001b[0m\u001b[0;34m(\u001b[0m\u001b[0mself\u001b[0m\u001b[0;34m,\u001b[0m \u001b[0mkey\u001b[0m\u001b[0;34m,\u001b[0m \u001b[0mvalue\u001b[0m\u001b[0;34m)\u001b[0m\u001b[0;34m:\u001b[0m\u001b[0;34m\u001b[0m\u001b[0m\n",
      "\u001b[0;31mTypeError\u001b[0m: unhashable type: 'Int64Index'"
     ]
    }
   ],
   "source": [
    "intensity_table.set_index(features=[augmented_index.get_level_values(name) for name in augmented_index.names])"
   ]
  },
  {
   "cell_type": "markdown",
   "metadata": {},
   "source": [
    "## Pandas IntensityTable"
   ]
  },
  {
   "cell_type": "code",
   "execution_count": 33,
   "metadata": {},
   "outputs": [
    {
     "data": {
      "text/plain": [
       "<xarray.IntensityTable (c: 4, h: 4)>\n",
       "array([[12,  0, 12,  3],\n",
       "       [ 0, 13,  1, 13],\n",
       "       [14,  1,  8, 17],\n",
       "       [13,  3, 13,  7]])\n",
       "Coordinates:\n",
       "  * h        (h) int64 0 1 2 3\n",
       "  * c        (c) int64 0 1 2 3"
      ]
     },
     "execution_count": 33,
     "metadata": {},
     "output_type": "execute_result"
    }
   ],
   "source": [
    "intensity_table.groupby('c').apply(np.argmax, axis=0)"
   ]
  },
  {
   "cell_type": "code",
   "execution_count": 34,
   "metadata": {},
   "outputs": [
    {
     "ename": "NameError",
     "evalue": "name 'intensity_data' is not defined",
     "output_type": "error",
     "traceback": [
      "\u001b[0;31m---------------------------------------------------------------------------\u001b[0m",
      "\u001b[0;31mNameError\u001b[0m                                 Traceback (most recent call last)",
      "\u001b[0;32m<ipython-input-34-d70cc3c0bc28>\u001b[0m in \u001b[0;36m<module>\u001b[0;34m()\u001b[0m\n\u001b[0;32m----> 1\u001b[0;31m \u001b[0mintensity_data\u001b[0m\u001b[0;34m\u001b[0m\u001b[0m\n\u001b[0m",
      "\u001b[0;31mNameError\u001b[0m: name 'intensity_data' is not defined"
     ]
    }
   ],
   "source": [
    "intensity_data"
   ]
  },
  {
   "cell_type": "markdown",
   "metadata": {},
   "source": [
    "## XArray IntensityTable"
   ]
  },
  {
   "cell_type": "code",
   "execution_count": 35,
   "metadata": {},
   "outputs": [
    {
     "ename": "NameError",
     "evalue": "name 'intensity_data' is not defined",
     "output_type": "error",
     "traceback": [
      "\u001b[0;31m---------------------------------------------------------------------------\u001b[0m",
      "\u001b[0;31mNameError\u001b[0m                                 Traceback (most recent call last)",
      "\u001b[0;32m<ipython-input-35-da026321982f>\u001b[0m in \u001b[0;36m<module>\u001b[0;34m()\u001b[0m\n\u001b[1;32m      1\u001b[0m \u001b[0;31m# we can transform this into various other data arrays. an xarray DataArray is very easy, because it infers things from the pandas DataFrame\u001b[0m\u001b[0;34m\u001b[0m\u001b[0;34m\u001b[0m\u001b[0m\n\u001b[0;32m----> 2\u001b[0;31m \u001b[0mxr\u001b[0m\u001b[0;34m.\u001b[0m\u001b[0mDataArray\u001b[0m\u001b[0;34m(\u001b[0m\u001b[0mintensity_data\u001b[0m\u001b[0;34m)\u001b[0m\u001b[0;34m\u001b[0m\u001b[0m\n\u001b[0m",
      "\u001b[0;31mNameError\u001b[0m: name 'intensity_data' is not defined"
     ]
    }
   ],
   "source": [
    "# we can transform this into various other data arrays. an xarray DataArray is very easy, because it infers things from the pandas DataFrame\n",
    "xr.DataArray(intensity_data)"
   ]
  },
  {
   "cell_type": "code",
   "execution_count": 36,
   "metadata": {},
   "outputs": [
    {
     "ename": "NameError",
     "evalue": "name 'intensity_data' is not defined",
     "output_type": "error",
     "traceback": [
      "\u001b[0;31m---------------------------------------------------------------------------\u001b[0m",
      "\u001b[0;31mNameError\u001b[0m                                 Traceback (most recent call last)",
      "\u001b[0;32m<ipython-input-36-5b48bd0e5f2e>\u001b[0m in \u001b[0;36m<module>\u001b[0;34m()\u001b[0m\n\u001b[1;32m      1\u001b[0m \u001b[0;31m# We can also build this more clearly. The below is the same, but we get to name the index.\u001b[0m\u001b[0;34m\u001b[0m\u001b[0;34m\u001b[0m\u001b[0m\n\u001b[1;32m      2\u001b[0m xarray_intensities = xr.DataArray(\n\u001b[0;32m----> 3\u001b[0;31m     \u001b[0mdata\u001b[0m\u001b[0;34m=\u001b[0m\u001b[0mintensity_data\u001b[0m\u001b[0;34m.\u001b[0m\u001b[0mvalues\u001b[0m\u001b[0;34m,\u001b[0m\u001b[0;34m\u001b[0m\u001b[0m\n\u001b[0m\u001b[1;32m      4\u001b[0m     \u001b[0mcoords\u001b[0m\u001b[0;34m=\u001b[0m\u001b[0;34m(\u001b[0m\u001b[0mintensity_data\u001b[0m\u001b[0;34m.\u001b[0m\u001b[0mindex\u001b[0m\u001b[0;34m,\u001b[0m \u001b[0mintensity_data\u001b[0m\u001b[0;34m.\u001b[0m\u001b[0mcolumns\u001b[0m\u001b[0;34m)\u001b[0m\u001b[0;34m,\u001b[0m\u001b[0;34m\u001b[0m\u001b[0m\n\u001b[1;32m      5\u001b[0m     \u001b[0mdims\u001b[0m\u001b[0;34m=\u001b[0m\u001b[0;34m(\u001b[0m\u001b[0;34m'Indices'\u001b[0m\u001b[0;34m,\u001b[0m \u001b[0;34m'spot_id'\u001b[0m\u001b[0;34m)\u001b[0m\u001b[0;34m\u001b[0m\u001b[0m\n",
      "\u001b[0;31mNameError\u001b[0m: name 'intensity_data' is not defined"
     ]
    }
   ],
   "source": [
    "# We can also build this more clearly. The below is the same, but we get to name the index.\n",
    "xarray_intensities = xr.DataArray(\n",
    "    data=intensity_data.values, \n",
    "    coords=(intensity_data.index, intensity_data.columns),\n",
    "    dims=('Indices', 'spot_id')\n",
    ")\n",
    "xarray_intensities"
   ]
  },
  {
   "cell_type": "markdown",
   "metadata": {},
   "source": [
    "## AnnData IntensityTable"
   ]
  },
  {
   "cell_type": "code",
   "execution_count": 63,
   "metadata": {},
   "outputs": [],
   "source": [
    "cols = intensity_data.index.to_frame()\n",
    "cols.index = np.arange(cols.shape[0])\n",
    "\n",
    "adata_intensities = ad.AnnData(\n",
    "    X=intensity_data.values,\n",
    "    obs=cols,\n",
    "    var=pd.Series(intensity_data.columns),\n",
    ")"
   ]
  },
  {
   "cell_type": "markdown",
   "metadata": {},
   "source": [
    "From here, we can play. "
   ]
  },
  {
   "cell_type": "markdown",
   "metadata": {},
   "source": [
    "## Test Apply"
   ]
  },
  {
   "cell_type": "code",
   "execution_count": 86,
   "metadata": {},
   "outputs": [
    {
     "data": {
      "text/plain": [
       "<xarray.DataArray (spot_id: 19)>\n",
       "array([1, 4, 5, 6, 2, 1, 6, 7, 5, 2, 3, 1, 5, 3, 3, 5, 4, 4, 1])\n",
       "Coordinates:\n",
       "  * spot_id  (spot_id) int64 0 1 2 3 4 5 6 7 8 9 10 11 12 13 14 15 16 17 18"
      ]
     },
     "execution_count": 86,
     "metadata": {},
     "output_type": "execute_result"
    }
   ],
   "source": [
    "xr.apply_ufunc(np.argmax, xarray_intensities, input_core_dims=[['Indices']], kwargs={'axis': 1})"
   ]
  },
  {
   "cell_type": "markdown",
   "metadata": {},
   "source": [
    "My impression here is that they've done a great job of defining a way to apply arbitrary functions across nd data. The result is a bit tricky at first, but the complexity starts to make sense when you realize all the options that open up when you're operating over more dimensions and might want to broadcast (or reduce!) over a few of them. "
   ]
  },
  {
   "cell_type": "code",
   "execution_count": null,
   "metadata": {},
   "outputs": [],
   "source": [
    "import xarray as xr\n",
    "\n",
    "class IntensityTable():\n",
    "    \n",
    "    def __init__(intensities, feature_metadata, tile_metadata):\n",
    "        self._data = xr.DataArray(\n",
    "            data=intensities, \n",
    "            coords=(feature_metadata, tile_metadata)\n",
    "            dims=('tile_metadata', 'feature_metadata')\n",
    "        )\n",
    "    \n",
    "    def decode(func, codebook):\n",
    "        pass\n",
    "    \n",
    "    def show(background_image):\n",
    "        pass"
   ]
  },
  {
   "cell_type": "markdown",
   "metadata": {},
   "source": [
    "## Write a new codebook for the data"
   ]
  },
  {
   "cell_type": "code",
   "execution_count": 63,
   "metadata": {},
   "outputs": [],
   "source": [
    "from starfish.constants import CodebookIndices"
   ]
  },
  {
   "cell_type": "code",
   "execution_count": 64,
   "metadata": {},
   "outputs": [
    {
     "data": {
      "text/html": [
       "<div>\n",
       "<style scoped>\n",
       "    .dataframe tbody tr th:only-of-type {\n",
       "        vertical-align: middle;\n",
       "    }\n",
       "\n",
       "    .dataframe tbody tr th {\n",
       "        vertical-align: top;\n",
       "    }\n",
       "\n",
       "    .dataframe thead th {\n",
       "        text-align: right;\n",
       "    }\n",
       "</style>\n",
       "<table border=\"1\" class=\"dataframe\">\n",
       "  <thead>\n",
       "    <tr style=\"text-align: right;\">\n",
       "      <th></th>\n",
       "      <th>gene</th>\n",
       "      <th>barcode</th>\n",
       "    </tr>\n",
       "  </thead>\n",
       "  <tbody>\n",
       "    <tr>\n",
       "      <th>0</th>\n",
       "      <td>SCUBE2</td>\n",
       "      <td>GTCA</td>\n",
       "    </tr>\n",
       "    <tr>\n",
       "      <th>1</th>\n",
       "      <td>MYBL2</td>\n",
       "      <td>ACTG</td>\n",
       "    </tr>\n",
       "    <tr>\n",
       "      <th>2</th>\n",
       "      <td>ER</td>\n",
       "      <td>TGCA</td>\n",
       "    </tr>\n",
       "    <tr>\n",
       "      <th>3</th>\n",
       "      <td>ST-3</td>\n",
       "      <td>ACGT</td>\n",
       "    </tr>\n",
       "    <tr>\n",
       "      <th>4</th>\n",
       "      <td>BCL2</td>\n",
       "      <td>GTAC</td>\n",
       "    </tr>\n",
       "  </tbody>\n",
       "</table>\n",
       "</div>"
      ],
      "text/plain": [
       "     gene barcode\n",
       "0  SCUBE2    GTCA\n",
       "1   MYBL2    ACTG\n",
       "2      ER    TGCA\n",
       "3    ST-3    ACGT\n",
       "4    BCL2    GTAC"
      ]
     },
     "execution_count": 64,
     "metadata": {},
     "output_type": "execute_result"
    }
   ],
   "source": [
    "codes = pd.read_csv('/Users/ajc/Desktop/codebook.csv')\n",
    "codes.head()"
   ]
  },
  {
   "cell_type": "code",
   "execution_count": 75,
   "metadata": {},
   "outputs": [],
   "source": [
    "letter_map = {'T': 0, 'G': 1, 'C': 2, 'A': 3}\n",
    "\n",
    "\n",
    "codebook = []\n",
    "for ind, code in codes.iterrows():\n",
    "    codeword = []\n",
    "    for i, letter in enumerate(code['barcode']):\n",
    "        codeword.append(\n",
    "                {Indices.HYB.value: i, Indices.CH.value: letter_map[letter], CodebookIndices.VALUE.value: 1}\n",
    "        )\n",
    "    codebook.append({\n",
    "        \"codeword\": codeword,\n",
    "        \"gene_name\": code['gene']\n",
    "    })"
   ]
  },
  {
   "cell_type": "code",
   "execution_count": 76,
   "metadata": {},
   "outputs": [
    {
     "data": {
      "text/plain": [
       "[{'codeword': [{'h': 0, 'c': 1, 'v': 1},\n",
       "   {'h': 1, 'c': 0, 'v': 1},\n",
       "   {'h': 2, 'c': 2, 'v': 1},\n",
       "   {'h': 3, 'c': 3, 'v': 1}],\n",
       "  'gene_name': 'SCUBE2'},\n",
       " {'codeword': [{'h': 0, 'c': 3, 'v': 1},\n",
       "   {'h': 1, 'c': 2, 'v': 1},\n",
       "   {'h': 2, 'c': 0, 'v': 1},\n",
       "   {'h': 3, 'c': 1, 'v': 1}],\n",
       "  'gene_name': 'MYBL2'},\n",
       " {'codeword': [{'h': 0, 'c': 0, 'v': 1},\n",
       "   {'h': 1, 'c': 1, 'v': 1},\n",
       "   {'h': 2, 'c': 2, 'v': 1},\n",
       "   {'h': 3, 'c': 3, 'v': 1}],\n",
       "  'gene_name': 'ER'},\n",
       " {'codeword': [{'h': 0, 'c': 3, 'v': 1},\n",
       "   {'h': 1, 'c': 2, 'v': 1},\n",
       "   {'h': 2, 'c': 1, 'v': 1},\n",
       "   {'h': 3, 'c': 0, 'v': 1}],\n",
       "  'gene_name': 'ST-3'},\n",
       " {'codeword': [{'h': 0, 'c': 1, 'v': 1},\n",
       "   {'h': 1, 'c': 0, 'v': 1},\n",
       "   {'h': 2, 'c': 3, 'v': 1},\n",
       "   {'h': 3, 'c': 2, 'v': 1}],\n",
       "  'gene_name': 'BCL2'},\n",
       " {'codeword': [{'h': 0, 'c': 3, 'v': 1},\n",
       "   {'h': 1, 'c': 3, 'v': 1},\n",
       "   {'h': 2, 'c': 1, 'v': 1},\n",
       "   {'h': 3, 'c': 0, 'v': 1}],\n",
       "  'gene_name': 'MET'},\n",
       " {'codeword': [{'h': 0, 'c': 3, 'v': 1},\n",
       "   {'h': 1, 'c': 0, 'v': 1},\n",
       "   {'h': 2, 'c': 0, 'v': 1},\n",
       "   {'h': 3, 'c': 3, 'v': 1}],\n",
       "  'gene_name': 'HOXB7'},\n",
       " {'codeword': [{'h': 0, 'c': 2, 'v': 1},\n",
       "   {'h': 1, 'c': 3, 'v': 1},\n",
       "   {'h': 2, 'c': 1, 'v': 1},\n",
       "   {'h': 3, 'c': 0, 'v': 1}],\n",
       "  'gene_name': 'GUS'},\n",
       " {'codeword': [{'h': 0, 'c': 2, 'v': 1},\n",
       "   {'h': 1, 'c': 1, 'v': 1},\n",
       "   {'h': 2, 'c': 0, 'v': 1},\n",
       "   {'h': 3, 'c': 3, 'v': 1}],\n",
       "  'gene_name': 'MYC'},\n",
       " {'codeword': [{'h': 0, 'c': 3, 'v': 1},\n",
       "   {'h': 1, 'c': 0, 'v': 1},\n",
       "   {'h': 2, 'c': 0, 'v': 1},\n",
       "   {'h': 3, 'c': 0, 'v': 1}],\n",
       "  'gene_name': 'AIB1'},\n",
       " {'codeword': [{'h': 0, 'c': 3, 'v': 1},\n",
       "   {'h': 1, 'c': 0, 'v': 1},\n",
       "   {'h': 2, 'c': 0, 'v': 1},\n",
       "   {'h': 3, 'c': 2, 'v': 1}],\n",
       "  'gene_name': 'SIX1'},\n",
       " {'codeword': [{'h': 0, 'c': 1, 'v': 1},\n",
       "   {'h': 1, 'c': 3, 'v': 1},\n",
       "   {'h': 2, 'c': 2, 'v': 1},\n",
       "   {'h': 3, 'c': 0, 'v': 1}],\n",
       "  'gene_name': 'CD68'},\n",
       " {'codeword': [{'h': 0, 'c': 3, 'v': 1},\n",
       "   {'h': 1, 'c': 1, 'v': 1},\n",
       "   {'h': 2, 'c': 0, 'v': 1},\n",
       "   {'h': 3, 'c': 2, 'v': 1}],\n",
       "  'gene_name': 'BIRC5'},\n",
       " {'codeword': [{'h': 0, 'c': 3, 'v': 1},\n",
       "   {'h': 1, 'c': 0, 'v': 1},\n",
       "   {'h': 2, 'c': 2, 'v': 1},\n",
       "   {'h': 3, 'c': 1, 'v': 1}],\n",
       "  'gene_name': 'STK15'},\n",
       " {'codeword': [{'h': 0, 'c': 1, 'v': 1},\n",
       "   {'h': 1, 'c': 3, 'v': 1},\n",
       "   {'h': 2, 'c': 0, 'v': 1},\n",
       "   {'h': 3, 'c': 2, 'v': 1}],\n",
       "  'gene_name': 'BAG1'},\n",
       " {'codeword': [{'h': 0, 'c': 3, 'v': 1},\n",
       "   {'h': 1, 'c': 0, 'v': 1},\n",
       "   {'h': 2, 'c': 0, 'v': 1},\n",
       "   {'h': 3, 'c': 1, 'v': 1}],\n",
       "  'gene_name': 'ETV4'},\n",
       " {'codeword': [{'h': 0, 'c': 3, 'v': 1},\n",
       "   {'h': 1, 'c': 0, 'v': 1},\n",
       "   {'h': 2, 'c': 3, 'v': 1},\n",
       "   {'h': 3, 'c': 3, 'v': 1}],\n",
       "  'gene_name': 'CCND1'},\n",
       " {'codeword': [{'h': 0, 'c': 3, 'v': 1},\n",
       "   {'h': 1, 'c': 1, 'v': 1},\n",
       "   {'h': 2, 'c': 2, 'v': 1},\n",
       "   {'h': 3, 'c': 0, 'v': 1}],\n",
       "  'gene_name': 'CCNB1'},\n",
       " {'codeword': [{'h': 0, 'c': 3, 'v': 1},\n",
       "   {'h': 1, 'c': 0, 'v': 1},\n",
       "   {'h': 2, 'c': 1, 'v': 1},\n",
       "   {'h': 3, 'c': 2, 'v': 1}],\n",
       "  'gene_name': 'MKI67'},\n",
       " {'codeword': [{'h': 0, 'c': 3, 'v': 1},\n",
       "   {'h': 1, 'c': 0, 'v': 1},\n",
       "   {'h': 2, 'c': 3, 'v': 1},\n",
       "   {'h': 3, 'c': 0, 'v': 1}],\n",
       "  'gene_name': 'MUC1'},\n",
       " {'codeword': [{'h': 0, 'c': 2, 'v': 1},\n",
       "   {'h': 1, 'c': 1, 'v': 1},\n",
       "   {'h': 2, 'c': 3, 'v': 1},\n",
       "   {'h': 3, 'c': 0, 'v': 1}],\n",
       "  'gene_name': 'VEGF'},\n",
       " {'codeword': [{'h': 0, 'c': 2, 'v': 1},\n",
       "   {'h': 1, 'c': 3, 'v': 1},\n",
       "   {'h': 2, 'c': 0, 'v': 1},\n",
       "   {'h': 3, 'c': 1, 'v': 1}],\n",
       "  'gene_name': 'RPLP0'},\n",
       " {'codeword': [{'h': 0, 'c': 3, 'v': 1},\n",
       "   {'h': 1, 'c': 3, 'v': 1},\n",
       "   {'h': 2, 'c': 2, 'v': 1},\n",
       "   {'h': 3, 'c': 1, 'v': 1}],\n",
       "  'gene_name': 'TP53'},\n",
       " {'codeword': [{'h': 0, 'c': 2, 'v': 1},\n",
       "   {'h': 1, 'c': 0, 'v': 1},\n",
       "   {'h': 2, 'c': 3, 'v': 1},\n",
       "   {'h': 3, 'c': 1, 'v': 1}],\n",
       "  'gene_name': 'TFRC'},\n",
       " {'codeword': [{'h': 0, 'c': 3, 'v': 1},\n",
       "   {'h': 1, 'c': 3, 'v': 1},\n",
       "   {'h': 2, 'c': 2, 'v': 1},\n",
       "   {'h': 3, 'c': 2, 'v': 1}],\n",
       "  'gene_name': 'EPCAM'},\n",
       " {'codeword': [{'h': 0, 'c': 3, 'v': 1},\n",
       "   {'h': 1, 'c': 0, 'v': 1},\n",
       "   {'h': 2, 'c': 3, 'v': 1},\n",
       "   {'h': 3, 'c': 1, 'v': 1}],\n",
       "  'gene_name': 'RAC1'},\n",
       " {'codeword': [{'h': 0, 'c': 2, 'v': 1},\n",
       "   {'h': 1, 'c': 0, 'v': 1},\n",
       "   {'h': 2, 'c': 1, 'v': 1},\n",
       "   {'h': 3, 'c': 3, 'v': 1}],\n",
       "  'gene_name': 'VIM'},\n",
       " {'codeword': [{'h': 0, 'c': 0, 'v': 1},\n",
       "   {'h': 1, 'c': 3, 'v': 1},\n",
       "   {'h': 2, 'c': 1, 'v': 1},\n",
       "   {'h': 3, 'c': 2, 'v': 1}],\n",
       "  'gene_name': 'CTSL2'},\n",
       " {'codeword': [{'h': 0, 'c': 1, 'v': 1},\n",
       "   {'h': 1, 'c': 2, 'v': 1},\n",
       "   {'h': 2, 'c': 0, 'v': 1},\n",
       "   {'h': 3, 'c': 3, 'v': 1}],\n",
       "  'gene_name': 'GAPDH'},\n",
       " {'codeword': [{'h': 0, 'c': 0, 'v': 1},\n",
       "   {'h': 1, 'c': 1, 'v': 1},\n",
       "   {'h': 2, 'c': 3, 'v': 1},\n",
       "   {'h': 3, 'c': 2, 'v': 1}],\n",
       "  'gene_name': 'HER2'},\n",
       " {'codeword': [{'h': 0, 'c': 1, 'v': 1},\n",
       "   {'h': 1, 'c': 2, 'v': 1},\n",
       "   {'h': 2, 'c': 3, 'v': 1},\n",
       "   {'h': 3, 'c': 0, 'v': 1}],\n",
       "  'gene_name': 'ACTB'}]"
      ]
     },
     "execution_count": 76,
     "metadata": {},
     "output_type": "execute_result"
    }
   ],
   "source": [
    "codebook"
   ]
  },
  {
   "cell_type": "code",
   "execution_count": 72,
   "metadata": {},
   "outputs": [],
   "source": [
    " import json"
   ]
  },
  {
   "cell_type": "code",
   "execution_count": 77,
   "metadata": {},
   "outputs": [],
   "source": [
    "with open('codebook.json', 'w') as f:\n",
    "    json.dump(codebook, f)"
   ]
  },
  {
   "cell_type": "code",
   "execution_count": 79,
   "metadata": {},
   "outputs": [],
   "source": [
    "iss_data_codebook = [\n",
    "    {\n",
    "        \"codeword\": \"AAGC\",\n",
    "        \"gene\": \"ACTB_human\"\n",
    "    },\n",
    "    {\n",
    "        \"codeword\": \"AGGC\",\n",
    "        \"gene\": \"ACTB_mouse\"\n",
    "    }\n",
    "]"
   ]
  },
  {
   "cell_type": "code",
   "execution_count": 82,
   "metadata": {},
   "outputs": [],
   "source": [
    "iss_reduced_codebook = []\n",
    "for code in iss_data_codebook:\n",
    "    codeword = []\n",
    "    for i, letter in enumerate(code['codeword']):\n",
    "        codeword.append(\n",
    "                {Indices.HYB.value: i, Indices.CH.value: letter_map[letter], CodebookIndices.VALUE.value: 1}\n",
    "        )\n",
    "    iss_reduced_codebook.append({\n",
    "        \"codeword\": codeword,\n",
    "        \"gene_name\": code['gene']\n",
    "    })"
   ]
  },
  {
   "cell_type": "code",
   "execution_count": 83,
   "metadata": {},
   "outputs": [
    {
     "data": {
      "text/plain": [
       "[{'codeword': [{'h': 0, 'c': 3, 'v': 1},\n",
       "   {'h': 1, 'c': 3, 'v': 1},\n",
       "   {'h': 2, 'c': 1, 'v': 1},\n",
       "   {'h': 3, 'c': 2, 'v': 1}],\n",
       "  'gene_name': 'ACTB_human'},\n",
       " {'codeword': [{'h': 0, 'c': 3, 'v': 1},\n",
       "   {'h': 1, 'c': 1, 'v': 1},\n",
       "   {'h': 2, 'c': 1, 'v': 1},\n",
       "   {'h': 3, 'c': 2, 'v': 1}],\n",
       "  'gene_name': 'ACTB_mouse'}]"
      ]
     },
     "execution_count": 83,
     "metadata": {},
     "output_type": "execute_result"
    }
   ],
   "source": [
    "iss_reduced_codebook"
   ]
  },
  {
   "cell_type": "code",
   "execution_count": null,
   "metadata": {},
   "outputs": [],
   "source": [
    "code"
   ]
  },
  {
   "cell_type": "code",
   "execution_count": 84,
   "metadata": {},
   "outputs": [],
   "source": [
    "with open('iss_codebook.json', 'w') as f:\n",
    "    json.dump(iss_reduced_codebook, f)"
   ]
  },
  {
   "cell_type": "code",
   "execution_count": 1,
   "metadata": {},
   "outputs": [],
   "source": [
    "from starfish.io import Stack"
   ]
  },
  {
   "cell_type": "code",
   "execution_count": 1,
   "metadata": {},
   "outputs": [],
   "source": [
    "%load_ext autoreload\n",
    "%autoreload 2"
   ]
  },
  {
   "cell_type": "code",
   "execution_count": 7,
   "metadata": {},
   "outputs": [],
   "source": [
    "import matplotlib.pyplot as plt\n",
    "%matplotlib inline"
   ]
  },
  {
   "cell_type": "code",
   "execution_count": 2,
   "metadata": {},
   "outputs": [],
   "source": [
    "from starfish.util.synthesize import SyntheticData"
   ]
  },
  {
   "cell_type": "code",
   "execution_count": 26,
   "metadata": {},
   "outputs": [
    {
     "ename": "TypeError",
     "evalue": "slice expected at least 1 arguments, got 0",
     "output_type": "error",
     "traceback": [
      "\u001b[0;31m---------------------------------------------------------------------------\u001b[0m",
      "\u001b[0;31mTypeError\u001b[0m                                 Traceback (most recent call last)",
      "\u001b[0;32m<ipython-input-26-14824308143b>\u001b[0m in \u001b[0;36m<module>\u001b[0;34m()\u001b[0m\n\u001b[1;32m      6\u001b[0m \u001b[0;32mfrom\u001b[0m \u001b[0mstarfish\u001b[0m\u001b[0;34m.\u001b[0m\u001b[0mimage\u001b[0m \u001b[0;32mimport\u001b[0m \u001b[0mImageStack\u001b[0m\u001b[0;34m\u001b[0m\u001b[0m\n\u001b[1;32m      7\u001b[0m \u001b[0mres\u001b[0m \u001b[0;34m=\u001b[0m \u001b[0mImageStack\u001b[0m\u001b[0;34m.\u001b[0m\u001b[0mfrom_numpy_array\u001b[0m\u001b[0;34m(\u001b[0m\u001b[0mres\u001b[0m\u001b[0;34m.\u001b[0m\u001b[0mreshape\u001b[0m\u001b[0;34m(\u001b[0m\u001b[0;36m1\u001b[0m\u001b[0;34m,\u001b[0m \u001b[0;36m1\u001b[0m\u001b[0;34m,\u001b[0m \u001b[0;34m*\u001b[0m\u001b[0mres\u001b[0m\u001b[0;34m.\u001b[0m\u001b[0mshape\u001b[0m\u001b[0;34m)\u001b[0m\u001b[0;34m)\u001b[0m\u001b[0;34m\u001b[0m\u001b[0m\n\u001b[0;32m----> 8\u001b[0;31m \u001b[0mres\u001b[0m\u001b[0;34m.\u001b[0m\u001b[0mshow_stack\u001b[0m\u001b[0;34m(\u001b[0m\u001b[0mslice\u001b[0m\u001b[0;34m(\u001b[0m\u001b[0;34m)\u001b[0m\u001b[0;34m)\u001b[0m\u001b[0;34m\u001b[0m\u001b[0m\n\u001b[0m",
      "\u001b[0;31mTypeError\u001b[0m: slice expected at least 1 arguments, got 0"
     ]
    }
   ],
   "source": [
    "s = SyntheticData(n_spots=5)\n",
    "\n",
    "np.random.seed(2)\n",
    "res = s.spots()\n",
    "res = res.max_proj('c', 'h')\n",
    "from starfish.image import ImageStack\n",
    "res = ImageStack.from_numpy_array(res.reshape(1, 1, *res.shape))\n",
    "res.show_stack(slice())"
   ]
  },
  {
   "cell_type": "code",
   "execution_count": 55,
   "metadata": {},
   "outputs": [],
   "source": [
    "from scipy.ndimage.filters import gaussian_filter"
   ]
  },
  {
   "cell_type": "code",
   "execution_count": 27,
   "metadata": {},
   "outputs": [
    {
     "ename": "NameError",
     "evalue": "name 'gaussian_filter' is not defined",
     "output_type": "error",
     "traceback": [
      "\u001b[0;31m---------------------------------------------------------------------------\u001b[0m",
      "\u001b[0;31mNameError\u001b[0m                                 Traceback (most recent call last)",
      "\u001b[0;32m<ipython-input-27-935e9307193d>\u001b[0m in \u001b[0;36m<module>\u001b[0;34m()\u001b[0m\n\u001b[1;32m      1\u001b[0m \u001b[0mdata\u001b[0m \u001b[0;34m=\u001b[0m \u001b[0mnp\u001b[0m\u001b[0;34m.\u001b[0m\u001b[0mzeros\u001b[0m\u001b[0;34m(\u001b[0m\u001b[0;34m(\u001b[0m\u001b[0;36m100\u001b[0m\u001b[0;34m,\u001b[0m \u001b[0;36m100\u001b[0m\u001b[0;34m)\u001b[0m\u001b[0;34m,\u001b[0m \u001b[0mdtype\u001b[0m\u001b[0;34m=\u001b[0m\u001b[0mnp\u001b[0m\u001b[0;34m.\u001b[0m\u001b[0muint16\u001b[0m\u001b[0;34m)\u001b[0m\u001b[0;34m\u001b[0m\u001b[0m\n\u001b[1;32m      2\u001b[0m \u001b[0mdata\u001b[0m\u001b[0;34m[\u001b[0m\u001b[0;36m15\u001b[0m\u001b[0;34m,\u001b[0m \u001b[0;36m85\u001b[0m\u001b[0;34m]\u001b[0m \u001b[0;34m=\u001b[0m \u001b[0;36m1000\u001b[0m\u001b[0;34m\u001b[0m\u001b[0m\n\u001b[0;32m----> 3\u001b[0;31m \u001b[0mdata\u001b[0m \u001b[0;34m=\u001b[0m \u001b[0mgaussian_filter\u001b[0m\u001b[0;34m(\u001b[0m\u001b[0mdata\u001b[0m\u001b[0;34m,\u001b[0m \u001b[0msigma\u001b[0m\u001b[0;34m=\u001b[0m\u001b[0;36m3\u001b[0m\u001b[0;34m)\u001b[0m\u001b[0;34m\u001b[0m\u001b[0m\n\u001b[0m\u001b[1;32m      4\u001b[0m \u001b[0mimage\u001b[0m \u001b[0;34m=\u001b[0m \u001b[0mImageStack\u001b[0m\u001b[0;34m.\u001b[0m\u001b[0mfrom_numpy_array\u001b[0m\u001b[0;34m(\u001b[0m\u001b[0mdata\u001b[0m\u001b[0;34m.\u001b[0m\u001b[0mreshape\u001b[0m\u001b[0;34m(\u001b[0m\u001b[0;36m1\u001b[0m\u001b[0;34m,\u001b[0m \u001b[0;36m1\u001b[0m\u001b[0;34m,\u001b[0m \u001b[0;36m1\u001b[0m\u001b[0;34m,\u001b[0m \u001b[0;34m*\u001b[0m\u001b[0mdata\u001b[0m\u001b[0;34m.\u001b[0m\u001b[0mshape\u001b[0m\u001b[0;34m)\u001b[0m\u001b[0;34m)\u001b[0m\u001b[0;34m\u001b[0m\u001b[0m\n",
      "\u001b[0;31mNameError\u001b[0m: name 'gaussian_filter' is not defined"
     ]
    }
   ],
   "source": [
    "data = np.zeros((100, 100), dtype=np.uint16)\n",
    "data[15, 85] = 1000\n",
    "data = gaussian_filter(data, sigma=3)\n",
    "image = ImageStack.from_numpy_array(data.reshape(1, 1, 1, *data.shape))"
   ]
  },
  {
   "cell_type": "code",
   "execution_count": 72,
   "metadata": {},
   "outputs": [
    {
     "data": {
      "text/plain": [
       "<matplotlib.image.AxesImage at 0x116798d30>"
      ]
     },
     "execution_count": 72,
     "metadata": {},
     "output_type": "execute_result"
    },
    {
     "data": {
      "image/png": "[encoded data removed]",
      "text/plain": [
       "<Figure size 432x288 with 1 Axes>"
      ]
     },
     "metadata": {},
     "output_type": "display_data"
    }
   ],
   "source": [
    "plt.imshow(data)"
   ]
  },
  {
   "cell_type": "code",
   "execution_count": 2,
   "metadata": {},
   "outputs": [],
   "source": [
    "from starfish.util.synthesize import SyntheticData\n",
    "import numpy as np\n",
    "import matplotlib.pyplot as plt\n",
    "%matplotlib inline"
   ]
  },
  {
   "cell_type": "code",
   "execution_count": 28,
   "metadata": {},
   "outputs": [],
   "source": [
    "np.random.seed(2)\n",
    "synthesizer = SyntheticData(n_spots=5)\n",
    "codebook = synthesizer.codebook()\n",
    "true_intensities = synthesizer.intensities(codebook=codebook)\n",
    "image = synthesizer.spots(intensities=true_intensities)\n"
   ]
  },
  {
   "cell_type": "code",
   "execution_count": 5,
   "metadata": {},
   "outputs": [],
   "source": [
    "arr = image.max_proj('c', 'h', 'z')"
   ]
  },
  {
   "cell_type": "code",
   "execution_count": 29,
   "metadata": {},
   "outputs": [
    {
     "data": {
      "text/plain": [
       "<matplotlib.image.AxesImage at 0x10c2cc6a0>"
      ]
     },
     "execution_count": 29,
     "metadata": {},
     "output_type": "execute_result"
    },
    {
     "data": {
      "image/png": "[encoded data removed]",
      "text/plain": [
       "<Figure size 432x288 with 1 Axes>"
      ]
     },
     "metadata": {},
     "output_type": "display_data"
    }
   ],
   "source": [
    "plt.imshow(arr)"
   ]
  },
  {
   "cell_type": "code",
   "execution_count": 12,
   "metadata": {},
   "outputs": [],
   "source": [
    "from skimage.morphology import disk\n",
    "from scipy.ndimage.filters import minimum_filter, maximum_filter"
   ]
  },
  {
   "cell_type": "code",
   "execution_count": 7,
   "metadata": {},
   "outputs": [],
   "source": [
    "from starfish.pipeline.filter import white_tophat"
   ]
  },
  {
   "cell_type": "code",
   "execution_count": 8,
   "metadata": {},
   "outputs": [],
   "source": [
    "disk_size = 15\n",
    "def white_tophat(image):\n",
    "    if image.dtype.kind != \"u\":\n",
    "        raise TypeError(\"images should be stored in an unsigned integer array\")\n",
    "    structuring_element = disk(disk_size)\n",
    "    min_filtered = minimum_filter(image, footprint=structuring_element)\n",
    "    max_filtered = maximum_filter(min_filtered, footprint=structuring_element)\n",
    "    filtered_image = image - np.minimum(image, max_filtered)\n",
    "    return filtered_image"
   ]
  },
  {
   "cell_type": "code",
   "execution_count": 13,
   "metadata": {},
   "outputs": [
    {
     "data": {
      "text/plain": [
       "<matplotlib.image.AxesImage at 0x10c0eb5f8>"
      ]
     },
     "execution_count": 13,
     "metadata": {},
     "output_type": "execute_result"
    },
    {
     "data": {
      "image/png": "[encoded data removed]",
      "text/plain": [
       "<Figure size 432x288 with 1 Axes>"
      ]
     },
     "metadata": {},
     "output_type": "display_data"
    }
   ],
   "source": [
    "plt.imshow(white_tophat(arr))\n",
    "plt.scatter()"
   ]
  },
  {
   "cell_type": "code",
   "execution_count": 14,
   "metadata": {},
   "outputs": [],
   "source": [
    "from skimage.feature import blob_log"
   ]
  },
  {
   "cell_type": "code",
   "execution_count": 25,
   "metadata": {},
   "outputs": [
    {
     "data": {
      "text/plain": [
       "array([[46., 32.,  2.],\n",
       "       [41., 44.,  2.],\n",
       "       [26., 26.,  2.],\n",
       "       [19.,  8.,  2.],\n",
       "       [ 9., 32.,  2.]])"
      ]
     },
     "execution_count": 25,
     "metadata": {},
     "output_type": "execute_result"
    }
   ],
   "source": [
    "blob_log(arr, min_sigma=1, max_sigma=10, threshold=1e-4)"
   ]
  },
  {
   "cell_type": "code",
   "execution_count": null,
   "metadata": {},
   "outputs": [],
   "source": [
    "white_tophat.WhiteTophat._"
   ]
  },
  {
   "cell_type": "code",
   "execution_count": 66,
   "metadata": {},
   "outputs": [],
   "source": [
    "from skimage.feature import blob_log"
   ]
  },
  {
   "cell_type": "code",
   "execution_count": 74,
   "metadata": {},
   "outputs": [
    {
     "data": {
      "text/plain": [
       "array([[15., 85.,  3.]])"
      ]
     },
     "execution_count": 74,
     "metadata": {},
     "output_type": "execute_result"
    }
   ],
   "source": [
    "blob_log(data, 1, 10, threshold=0)"
   ]
  },
  {
   "cell_type": "code",
   "execution_count": 77,
   "metadata": {},
   "outputs": [
    {
     "data": {
      "text/plain": [
       "array([[[[[0.69721592, 0.62572212],\n",
       "          [0.42121909, 0.21917034]]]]])"
      ]
     },
     "execution_count": 77,
     "metadata": {},
     "output_type": "execute_result"
    }
   ],
   "source": [
    "np.random.random((1, 1, 1, 2, 2))"
   ]
  }
 ],
 "metadata": {
  "kernelspec": {
   "display_name": "Python 3",
   "language": "python",
   "name": "python3"
  },
  "language_info": {
   "codemirror_mode": {
    "name": "ipython",
    "version": 3
   },
   "file_extension": ".py",
   "mimetype": "text/x-python",
   "name": "python",
   "nbconvert_exporter": "python",
   "pygments_lexer": "ipython3",
   "version": "3.6.5"
  }
 },
 "nbformat": 4,
 "nbformat_minor": 2
}
