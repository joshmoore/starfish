{
 "cells": [
  {
   "cell_type": "markdown",
   "metadata": {},
   "source": [
    "## Reproduce Published results with Starfish\n",
    "\n",
    "This notebook walks through a workflow that reproduces a MERFISH result for one field of view using the starfish package."
   ]
  },
  {
   "cell_type": "code",
   "execution_count": null,
   "metadata": {},
   "outputs": [],
   "source": [
    "import os\n",
    "import pprint\n",
    "import time\n",
    "\n",
    "import numpy as np\n",
    "import pandas as pd \n",
    "import matplotlib.pyplot as plt\n",
    "import seaborn as sns\n",
    "from scipy.stats import scoreatpercentile\n",
    "\n",
    "from showit import image, tile\n",
    "from starfish.constants import Indices\n",
    "from starfish.io import Stack\n",
    "from starfish.viz import tile_lims\n",
    "\n",
    "%matplotlib inline"
   ]
  },
  {
   "cell_type": "code",
   "execution_count": null,
   "metadata": {},
   "outputs": [],
   "source": [
    "# load the data from cloudfront\n",
    "s = Stack()\n",
    "s.read('https://dmf0bdeheu4zf.cloudfront.net/MERFISH/fov_001/experiment.json')"
   ]
  },
  {
   "cell_type": "code",
   "execution_count": null,
   "metadata": {},
   "outputs": [],
   "source": [
    "# data from one FOV correspond to 16 single plane images as shown here (see below for details)\n",
    "tile(s.image.squeeze());"
   ]
  },
  {
   "cell_type": "markdown",
   "metadata": {},
   "source": [
    "Individual hybridization rounds and channels can also be visualized"
   ]
  },
  {
   "cell_type": "code",
   "execution_count": null,
   "metadata": {},
   "outputs": [],
   "source": [
    "# show all hybridization rounds of channel 0\n",
    "s.image.show_stack({Indices.CH: 0})"
   ]
  },
  {
   "cell_type": "markdown",
   "metadata": {},
   "source": [
    "## Show input file format that specifies how the tiff stack is organized\n",
    "\n",
    "The stack contains multiple images corresponding to the channel and hybridization round. MERFISH builds a 16 bit barcode from 8 hybridization rounds, each of which measures two channels that correspond to contiguous (but not necessarily consistently ordered) bits of the barcode. \n",
    "\n",
    "The MERFISH computational pipeline also constructs a scalar that corrects for intensity differences across each of the 16 images, e.g., one scale factor per bit position.\n",
    "\n",
    "The stacks in this example are pre-registered using fiduciary beads. "
   ]
  },
  {
   "cell_type": "code",
   "execution_count": null,
   "metadata": {},
   "outputs": [],
   "source": [
    "pp = pprint.PrettyPrinter(indent=2)\n",
    "pp.pprint(s.org)"
   ]
  },
  {
   "cell_type": "markdown",
   "metadata": {},
   "source": [
    "## Visualize codebook"
   ]
  },
  {
   "cell_type": "markdown",
   "metadata": {},
   "source": [
    "The MERFISH codebook maps each barcode to a gene (or blank) feature. The codes in the MERFISH codebook are constructed from a 4-hamming error correcting code with exactly 4 \"on\" bits per barcode"
   ]
  },
  {
   "cell_type": "code",
   "execution_count": null,
   "metadata": {},
   "outputs": [],
   "source": [
    "codebook = pd.read_csv('https://dmf0bdeheu4zf.cloudfront.net/MERFISH/codebook.csv', dtype={'barcode': object})\n",
    "codebook.head(20)"
   ]
  },
  {
   "cell_type": "markdown",
   "metadata": {},
   "source": [
    "## Filter and scale raw data before decoding"
   ]
  },
  {
   "cell_type": "code",
   "execution_count": null,
   "metadata": {},
   "outputs": [],
   "source": [
    "from starfish.pipeline.filter.gaussian_high_pass import GaussianHighPass\n",
    "from starfish.pipeline.filter.gaussian_low_pass import GaussianLowPass\n",
    "from starfish.pipeline.filter.richardson_lucy_deconvolution import DeconvolvePSF\n",
    "from starfish.viz import tile_lims"
   ]
  },
  {
   "cell_type": "markdown",
   "metadata": {},
   "source": [
    "Begin filtering with a high pass filter to remove background signal."
   ]
  },
  {
   "cell_type": "code",
   "execution_count": null,
   "metadata": {},
   "outputs": [],
   "source": [
    "from starfish.pipeline.filter.gaussian_high_pass import GaussianHighPass\n",
    "ghp = GaussianHighPass(sigma=3)\n",
    "ghp.filter(s)"
   ]
  },
  {
   "cell_type": "markdown",
   "metadata": {},
   "source": [
    "The below algorithm deconvolves out the point spread function introduced by the microcope and is specifically designed for this use case. The number of iterations is an important parameter that needs careful optimization. "
   ]
  },
  {
   "cell_type": "code",
   "execution_count": null,
   "metadata": {},
   "outputs": [],
   "source": [
    "from starfish.pipeline.filter.richardson_lucy_deconvolution import DeconvolvePSF\n",
    "dpsf = DeconvolvePSF(num_iter=15, sigma=2)\n",
    "dpsf.filter(s)"
   ]
  },
  {
   "cell_type": "markdown",
   "metadata": {},
   "source": [
    "Recall that the image is pre-registered, as stated above. Despite this, individual RNA molecules may still not be perfectly aligned across hybridization rounds. This is crucial in order to read out a measure of the itended barcode (across hybridization rounds) in order to map it to the codebook. To solve for potential mis-alignment, the images can be blurred with a 1-pixel Gaussian kernel. The risk here is that this will obfuscate signals from nearby molecules. \n",
    "\n",
    "A local search in pixel space across hybridization rounds can also solve this. "
   ]
  },
  {
   "cell_type": "code",
   "execution_count": null,
   "metadata": {},
   "outputs": [],
   "source": [
    "from starfish.pipeline.filter.gaussian_low_pass import GaussianLowPass\n",
    "glp = GaussianLowPass(sigma=1)\n",
    "glp.filter(s)"
   ]
  },
  {
   "cell_type": "markdown",
   "metadata": {},
   "source": [
    "Use MERFISH-calculated size factors to scale the channels across the hybridization rounds and visualize the resulting filtered and scaled images. Right now we have to extract this information from the metadata and apply this transformation manually."
   ]
  },
  {
   "cell_type": "code",
   "execution_count": null,
   "metadata": {},
   "outputs": [],
   "source": [
    "scale_factors = {(t[Indices.HYB], t[Indices.CH]): t['scale_factor'] for index, t in s.image.tile_metadata.iterrows()}"
   ]
  },
  {
   "cell_type": "code",
   "execution_count": null,
   "metadata": {},
   "outputs": [],
   "source": [
    "# this is a scaling method. It would be great to use image.apply here. It's possible, but we need to expose H & C to \n",
    "# at least we can do it with get_slice and set_slice right now.\n",
    "\n",
    "for indices in s.image._iter_indices():\n",
    "    data = s.image.get_slice(indices)[0]\n",
    "    scaled = data / scale_factors[indices[Indices.HYB], indices[Indices.CH]]\n",
    "    s.image.set_slice(indices, scaled)"
   ]
  },
  {
   "cell_type": "code",
   "execution_count": null,
   "metadata": {},
   "outputs": [],
   "source": [
    "from scipy.stats import scoreatpercentile"
   ]
  },
  {
   "cell_type": "code",
   "execution_count": null,
   "metadata": {},
   "outputs": [],
   "source": [
    "mp = s.image.max_proj(Indices.HYB, Indices.CH, Indices.Z)\n",
    "clim = scoreatpercentile(mp, [0.5, 99.5])\n",
    "image(mp, clim=clim)"
   ]
  },
  {
   "cell_type": "markdown",
   "metadata": {},
   "source": [
    "## Use spot-detector to create 'encoder' table  for standardized input  to decoder\n",
    "\n",
    "Each pipeline exposes a spot detector, and this spot detector translates the filtered image into an encoded table by detecting spots. The table contains the spot_id, the corresponding intensity (val) and the channel (ch), hybridization round (hyb), and bit position (bit) of each spot. \n",
    "\n",
    "The MERFISH pipeline merges these two steps together by finding pixel-based features, and then later collapsing these into spots and filtering out undesirable (non-spot) features. \n",
    "\n",
    "Therefore, no encoder table is generated, but a robust SpotAttribute and DecodedTable are both produced:"
   ]
  },
  {
   "cell_type": "markdown",
   "metadata": {},
   "source": [
    "## Decode\n",
    "\n",
    "Each assay type also exposes a decoder. A decoder translates each spot (spot_id) in the encoded table into a gene that matches a barcode in the codebook. The goal is to decode and output a quality score, per spot, that describes the confidence in the decoding. Recall that in the MERFISH pipeline, each 'spot' is actually a 16 dimensional vector, one per pixel in the image. From here on, we will refer to these as pixel vectors. Once these pixel vectors are decoded into gene values, contiguous pixels that are decoded to the same gene are labeled as 'spots' via a connected components labeler. We shall refer to the latter as spots.\n",
    "\n",
    "There are hard and soft decodings -- hard decoding is just looking for the max value in the code book. Soft decoding, by contrast, finds the closest code by distance in intensity. Because different assays each have their own intensities and error modes, we leave decoders as user-defined functions. \n",
    "\n",
    "For MERFISH, which uses soft decoding, there are several parameters which are important to determining the result of the decoding method: \n",
    "\n",
    "### Distance threshold\n",
    "In MERFISH, each pixel vector is a 16d vector that we want to map onto a barcode via minimum euclidean distance. Each barcode in the codebook, and each pixel vector is first mapped to the unit sphere by L2 normalization. As such, the maximum distance between a pixel vector and the nearest single-bit error barcode is 0.5176. As such, the decoder only accepts pixel vectors that are below this distance for assignment to a codeword in the codebook. \n",
    "\n",
    "### Magnitude threshold\n",
    "This is a signal floor for decoding. Pixel vectors with an L2 norm below this floor are not considered for decoding. \n",
    "\n",
    "### Area threshold\n",
    "Contiguous pixels that decode to the same gene are called as spots via connected components labeling. The minimum area of these spots are set by this parameter. The intuition is that pixel vectors, that pass the distance and magnitude thresholds, shold probably not be trusted as genes as the mRNA transcript would be too small for them to be real. This parameter can be set based on microscope resolution and signal amplification strategy.\n",
    "\n",
    "### Crop size \n",
    "The crop size crops the image by a number of pixels large enough to eliminate parts of the image that suffer from boundary effects from both signal aquisition (e.g., FOV overlap) and image processing. Here this value is 40.\n",
    "\n",
    "Given these three thresholds, for each pixel vector, the decoder picks the closest code (minimum distance) that satisfies each of the above thresholds, where the distance is calculated between the code and a normalized intensity vector and throws away subsequent spots that are too small."
   ]
  },
  {
   "cell_type": "code",
   "execution_count": null,
   "metadata": {},
   "outputs": [],
   "source": [
    "from starfish.pipeline.features.pixels.pixel_spot_detector import PixelSpotDetector\n",
    "psd = PixelSpotDetector(\n",
    "    codebook='https://s3.amazonaws.com/czi.starfish.data.public/MERFISH/codebook.csv',\n",
    "    distance_threshold=0.5176,\n",
    "    magnitude_threshold=1,\n",
    "    area_threshold=2,\n",
    "    crop_size=40\n",
    ")\n",
    "\n",
    "spot_attributes, decoded = psd.find(s)"
   ]
  },
  {
   "cell_type": "code",
   "execution_count": null,
   "metadata": {},
   "outputs": [],
   "source": [
    "spot_attributes.head()"
   ]
  },
  {
   "cell_type": "code",
   "execution_count": null,
   "metadata": {},
   "outputs": [],
   "source": [
    "res = decoded.result  # this should be consistent across assays; \n",
    "# this one doesn't have a quality, but it should eventually converge to a shared type\n",
    "res.head()"
   ]
  },
  {
   "cell_type": "markdown",
   "metadata": {},
   "source": [
    "In the above method, the private method of the decoder is used, which exposes additional metadata about the spots. "
   ]
  },
  {
   "cell_type": "code",
   "execution_count": null,
   "metadata": {},
   "outputs": [],
   "source": [
    "print('Additional metadata:')\n",
    "[f for f in dir(decoded) if not f.startswith('_')]"
   ]
  },
  {
   "cell_type": "markdown",
   "metadata": {},
   "source": [
    "Spot attributes are stored as skimage RegionProperties attributes"
   ]
  },
  {
   "cell_type": "code",
   "execution_count": null,
   "metadata": {},
   "outputs": [],
   "source": [
    "decoded.spot_props[:3]"
   ]
  },
  {
   "cell_type": "markdown",
   "metadata": {},
   "source": [
    "## Compare to results from paper \n",
    "\n",
    "The below plot aggregates gene copy number across single cells in the field of view and compares the results to the published intensities in the MERFISH paper. \n",
    "\n",
    "To make this match perfectly, run deconvolution 15 times instead of 14. As presented below, STARFISH displays a lower detection rate.  "
   ]
  },
  {
   "cell_type": "code",
   "execution_count": null,
   "metadata": {},
   "outputs": [],
   "source": [
    "sns.set_context('talk')\n",
    "sns.set_style('ticks')\n",
    "\n",
    "bench = pd.read_csv('https://dmf0bdeheu4zf.cloudfront.net/MERFISH/benchmark_results.csv', \n",
    "                    dtype = {'barcode':object})\n",
    "x_cnts = res.groupby('gene').count()['area']\n",
    "y_cnts = bench.groupby('gene').count()['area']\n",
    "tmp = pd.concat([x_cnts, y_cnts], axis=1, join='inner').values\n",
    "r = np.corrcoef(tmp[:,1], tmp[:,0])[0,1]\n",
    "\n",
    "x = np.linspace(50, 2000)\n",
    "plt.scatter(tmp[:,1],tmp[:,0], 50,zorder=2)\n",
    "plt.plot(x,x,'-k',zorder=1)\n",
    "\n",
    "plt.xlabel('Gene copy number Benchmark')\n",
    "plt.ylabel('Gene copy number Starfish')\n",
    "plt.xscale('log')\n",
    "plt.yscale('log')\n",
    "plt.title('r = {}'.format(r))\n",
    "\n",
    "sns.despine(offset=2)"
   ]
  },
  {
   "cell_type": "markdown",
   "metadata": {},
   "source": [
    "## Visualize results\n",
    "\n",
    "This image applies a pseudo-color to each gene channel to visualize the position and size of all called spots in a subset of the test image"
   ]
  },
  {
   "cell_type": "code",
   "execution_count": null,
   "metadata": {},
   "outputs": [],
   "source": [
    "props = decoded.spot_props\n",
    "area_lookup = lambda x: 0 if x == 0 else props[x-1].area\n",
    "vfunc = np.vectorize(area_lookup)\n",
    "mask = vfunc(decoded.label_img)\n",
    "image((decoded.decoded_img*(mask > 2))[200:500,200:500], cmap = 'nipy_spectral', size=10)"
   ]
  }
 ],
 "metadata": {
  "hide_input": false,
  "kernelspec": {
   "display_name": "Python 3",
   "language": "python",
   "name": "python3"
  },
  "language_info": {
   "codemirror_mode": {
    "name": "ipython",
    "version": 3
   },
   "file_extension": ".py",
   "mimetype": "text/x-python",
   "name": "python",
   "nbconvert_exporter": "python",
   "pygments_lexer": "ipython3",
   "version": "3.6.5"
  },
  "toc": {
   "nav_menu": {},
   "number_sections": true,
   "sideBar": true,
   "skip_h1_title": false,
   "toc_cell": false,
   "toc_position": {},
   "toc_section_display": "block",
   "toc_window_display": false
  }
 },
 "nbformat": 4,
 "nbformat_minor": 2
}
